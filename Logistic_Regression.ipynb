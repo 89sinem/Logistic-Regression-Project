{
 "cells": [
  {
   "cell_type": "markdown",
   "metadata": {},
   "source": [
    "### Logistic Regression Model\n"
   ]
  },
  {
   "cell_type": "markdown",
   "metadata": {},
   "source": [
    "*IBM.csv* dataset, which contains information about employees, including a categorical variable to indicate whether they left the company (Attrition)."
   ]
  },
  {
   "cell_type": "markdown",
   "metadata": {},
   "source": [
    "### - Libraries"
   ]
  },
  {
   "cell_type": "code",
   "execution_count": 1,
   "metadata": {},
   "outputs": [],
   "source": [
    "import pandas as pd\n",
    "import matplotlib.pyplot as plt\n",
    "import seaborn as sns\n",
    "import matplotlib.patches as mpatches\n",
    "from sklearn.preprocessing import StandardScaler\n",
    "from sklearn.cluster import KMeans"
   ]
  },
  {
   "cell_type": "code",
   "execution_count": null,
   "metadata": {},
   "outputs": [],
   "source": []
  },
  {
   "cell_type": "markdown",
   "metadata": {},
   "source": [
    "### - Reading Data"
   ]
  },
  {
   "cell_type": "code",
   "execution_count": 2,
   "metadata": {},
   "outputs": [
    {
     "data": {
      "text/html": [
       "<div>\n",
       "<style scoped>\n",
       "    .dataframe tbody tr th:only-of-type {\n",
       "        vertical-align: middle;\n",
       "    }\n",
       "\n",
       "    .dataframe tbody tr th {\n",
       "        vertical-align: top;\n",
       "    }\n",
       "\n",
       "    .dataframe thead th {\n",
       "        text-align: right;\n",
       "    }\n",
       "</style>\n",
       "<table border=\"1\" class=\"dataframe\">\n",
       "  <thead>\n",
       "    <tr style=\"text-align: right;\">\n",
       "      <th></th>\n",
       "      <th>Age</th>\n",
       "      <th>Attrition</th>\n",
       "      <th>Department</th>\n",
       "      <th>DistanceFromHome</th>\n",
       "      <th>Education</th>\n",
       "      <th>EducationField</th>\n",
       "      <th>EnvironmentSatisfaction</th>\n",
       "      <th>JobSatisfaction</th>\n",
       "      <th>MaritalStatus</th>\n",
       "      <th>MonthlyIncome</th>\n",
       "      <th>NumCompaniesWorked</th>\n",
       "      <th>WorkLifeBalance</th>\n",
       "      <th>YearsAtCompany</th>\n",
       "    </tr>\n",
       "  </thead>\n",
       "  <tbody>\n",
       "    <tr>\n",
       "      <th>0</th>\n",
       "      <td>41</td>\n",
       "      <td>Yes</td>\n",
       "      <td>Sales</td>\n",
       "      <td>1</td>\n",
       "      <td>2</td>\n",
       "      <td>Life Sciences</td>\n",
       "      <td>2</td>\n",
       "      <td>4</td>\n",
       "      <td>Single</td>\n",
       "      <td>5993</td>\n",
       "      <td>8</td>\n",
       "      <td>1</td>\n",
       "      <td>6</td>\n",
       "    </tr>\n",
       "    <tr>\n",
       "      <th>1</th>\n",
       "      <td>49</td>\n",
       "      <td>No</td>\n",
       "      <td>Research &amp; Development</td>\n",
       "      <td>8</td>\n",
       "      <td>1</td>\n",
       "      <td>Life Sciences</td>\n",
       "      <td>3</td>\n",
       "      <td>2</td>\n",
       "      <td>Married</td>\n",
       "      <td>5130</td>\n",
       "      <td>1</td>\n",
       "      <td>3</td>\n",
       "      <td>10</td>\n",
       "    </tr>\n",
       "    <tr>\n",
       "      <th>2</th>\n",
       "      <td>37</td>\n",
       "      <td>Yes</td>\n",
       "      <td>Research &amp; Development</td>\n",
       "      <td>2</td>\n",
       "      <td>2</td>\n",
       "      <td>Other</td>\n",
       "      <td>4</td>\n",
       "      <td>3</td>\n",
       "      <td>Single</td>\n",
       "      <td>2090</td>\n",
       "      <td>6</td>\n",
       "      <td>3</td>\n",
       "      <td>0</td>\n",
       "    </tr>\n",
       "    <tr>\n",
       "      <th>3</th>\n",
       "      <td>33</td>\n",
       "      <td>No</td>\n",
       "      <td>Research &amp; Development</td>\n",
       "      <td>3</td>\n",
       "      <td>4</td>\n",
       "      <td>Life Sciences</td>\n",
       "      <td>4</td>\n",
       "      <td>3</td>\n",
       "      <td>Married</td>\n",
       "      <td>2909</td>\n",
       "      <td>1</td>\n",
       "      <td>3</td>\n",
       "      <td>8</td>\n",
       "    </tr>\n",
       "    <tr>\n",
       "      <th>4</th>\n",
       "      <td>27</td>\n",
       "      <td>No</td>\n",
       "      <td>Research &amp; Development</td>\n",
       "      <td>2</td>\n",
       "      <td>1</td>\n",
       "      <td>Medical</td>\n",
       "      <td>1</td>\n",
       "      <td>2</td>\n",
       "      <td>Married</td>\n",
       "      <td>3468</td>\n",
       "      <td>9</td>\n",
       "      <td>3</td>\n",
       "      <td>2</td>\n",
       "    </tr>\n",
       "    <tr>\n",
       "      <th>...</th>\n",
       "      <td>...</td>\n",
       "      <td>...</td>\n",
       "      <td>...</td>\n",
       "      <td>...</td>\n",
       "      <td>...</td>\n",
       "      <td>...</td>\n",
       "      <td>...</td>\n",
       "      <td>...</td>\n",
       "      <td>...</td>\n",
       "      <td>...</td>\n",
       "      <td>...</td>\n",
       "      <td>...</td>\n",
       "      <td>...</td>\n",
       "    </tr>\n",
       "    <tr>\n",
       "      <th>1465</th>\n",
       "      <td>36</td>\n",
       "      <td>No</td>\n",
       "      <td>Research &amp; Development</td>\n",
       "      <td>23</td>\n",
       "      <td>2</td>\n",
       "      <td>Medical</td>\n",
       "      <td>3</td>\n",
       "      <td>4</td>\n",
       "      <td>Married</td>\n",
       "      <td>2571</td>\n",
       "      <td>4</td>\n",
       "      <td>3</td>\n",
       "      <td>5</td>\n",
       "    </tr>\n",
       "    <tr>\n",
       "      <th>1466</th>\n",
       "      <td>39</td>\n",
       "      <td>No</td>\n",
       "      <td>Research &amp; Development</td>\n",
       "      <td>6</td>\n",
       "      <td>1</td>\n",
       "      <td>Medical</td>\n",
       "      <td>4</td>\n",
       "      <td>1</td>\n",
       "      <td>Married</td>\n",
       "      <td>9991</td>\n",
       "      <td>4</td>\n",
       "      <td>3</td>\n",
       "      <td>7</td>\n",
       "    </tr>\n",
       "    <tr>\n",
       "      <th>1467</th>\n",
       "      <td>27</td>\n",
       "      <td>No</td>\n",
       "      <td>Research &amp; Development</td>\n",
       "      <td>4</td>\n",
       "      <td>3</td>\n",
       "      <td>Life Sciences</td>\n",
       "      <td>2</td>\n",
       "      <td>2</td>\n",
       "      <td>Married</td>\n",
       "      <td>6142</td>\n",
       "      <td>1</td>\n",
       "      <td>3</td>\n",
       "      <td>6</td>\n",
       "    </tr>\n",
       "    <tr>\n",
       "      <th>1468</th>\n",
       "      <td>49</td>\n",
       "      <td>No</td>\n",
       "      <td>Sales</td>\n",
       "      <td>2</td>\n",
       "      <td>3</td>\n",
       "      <td>Medical</td>\n",
       "      <td>4</td>\n",
       "      <td>2</td>\n",
       "      <td>Married</td>\n",
       "      <td>5390</td>\n",
       "      <td>2</td>\n",
       "      <td>2</td>\n",
       "      <td>9</td>\n",
       "    </tr>\n",
       "    <tr>\n",
       "      <th>1469</th>\n",
       "      <td>34</td>\n",
       "      <td>No</td>\n",
       "      <td>Research &amp; Development</td>\n",
       "      <td>8</td>\n",
       "      <td>3</td>\n",
       "      <td>Medical</td>\n",
       "      <td>2</td>\n",
       "      <td>3</td>\n",
       "      <td>Married</td>\n",
       "      <td>4404</td>\n",
       "      <td>2</td>\n",
       "      <td>4</td>\n",
       "      <td>4</td>\n",
       "    </tr>\n",
       "  </tbody>\n",
       "</table>\n",
       "<p>1470 rows × 13 columns</p>\n",
       "</div>"
      ],
      "text/plain": [
       "      Age Attrition              Department  DistanceFromHome  Education  \\\n",
       "0      41       Yes                   Sales                 1          2   \n",
       "1      49        No  Research & Development                 8          1   \n",
       "2      37       Yes  Research & Development                 2          2   \n",
       "3      33        No  Research & Development                 3          4   \n",
       "4      27        No  Research & Development                 2          1   \n",
       "...   ...       ...                     ...               ...        ...   \n",
       "1465   36        No  Research & Development                23          2   \n",
       "1466   39        No  Research & Development                 6          1   \n",
       "1467   27        No  Research & Development                 4          3   \n",
       "1468   49        No                   Sales                 2          3   \n",
       "1469   34        No  Research & Development                 8          3   \n",
       "\n",
       "     EducationField  EnvironmentSatisfaction  JobSatisfaction MaritalStatus  \\\n",
       "0     Life Sciences                        2                4        Single   \n",
       "1     Life Sciences                        3                2       Married   \n",
       "2             Other                        4                3        Single   \n",
       "3     Life Sciences                        4                3       Married   \n",
       "4           Medical                        1                2       Married   \n",
       "...             ...                      ...              ...           ...   \n",
       "1465        Medical                        3                4       Married   \n",
       "1466        Medical                        4                1       Married   \n",
       "1467  Life Sciences                        2                2       Married   \n",
       "1468        Medical                        4                2       Married   \n",
       "1469        Medical                        2                3       Married   \n",
       "\n",
       "      MonthlyIncome  NumCompaniesWorked  WorkLifeBalance  YearsAtCompany  \n",
       "0              5993                   8                1               6  \n",
       "1              5130                   1                3              10  \n",
       "2              2090                   6                3               0  \n",
       "3              2909                   1                3               8  \n",
       "4              3468                   9                3               2  \n",
       "...             ...                 ...              ...             ...  \n",
       "1465           2571                   4                3               5  \n",
       "1466           9991                   4                3               7  \n",
       "1467           6142                   1                3               6  \n",
       "1468           5390                   2                2               9  \n",
       "1469           4404                   2                4               4  \n",
       "\n",
       "[1470 rows x 13 columns]"
      ]
     },
     "execution_count": 2,
     "metadata": {},
     "output_type": "execute_result"
    }
   ],
   "source": [
    "df = pd.read_csv(r'IBM.csv')\n",
    "df"
   ]
  },
  {
   "cell_type": "code",
   "execution_count": null,
   "metadata": {},
   "outputs": [],
   "source": []
  },
  {
   "cell_type": "code",
   "execution_count": null,
   "metadata": {},
   "outputs": [],
   "source": []
  },
  {
   "cell_type": "code",
   "execution_count": 3,
   "metadata": {},
   "outputs": [
    {
     "data": {
      "text/plain": [
       "(1470, 13)"
      ]
     },
     "execution_count": 3,
     "metadata": {},
     "output_type": "execute_result"
    }
   ],
   "source": [
    "df.shape"
   ]
  },
  {
   "cell_type": "code",
   "execution_count": null,
   "metadata": {},
   "outputs": [],
   "source": []
  },
  {
   "cell_type": "markdown",
   "metadata": {},
   "source": [
    "### - Data Types"
   ]
  },
  {
   "cell_type": "code",
   "execution_count": 4,
   "metadata": {},
   "outputs": [
    {
     "data": {
      "text/plain": [
       "Age                         int64\n",
       "Attrition                  object\n",
       "Department                 object\n",
       "DistanceFromHome            int64\n",
       "Education                   int64\n",
       "EducationField             object\n",
       "EnvironmentSatisfaction     int64\n",
       "JobSatisfaction             int64\n",
       "MaritalStatus              object\n",
       "MonthlyIncome               int64\n",
       "NumCompaniesWorked          int64\n",
       "WorkLifeBalance             int64\n",
       "YearsAtCompany              int64\n",
       "dtype: object"
      ]
     },
     "execution_count": 4,
     "metadata": {},
     "output_type": "execute_result"
    }
   ],
   "source": [
    "# Get the data types of each column\n",
    "data_types = df.dtypes\n",
    "data_types"
   ]
  },
  {
   "cell_type": "code",
   "execution_count": 5,
   "metadata": {},
   "outputs": [
    {
     "data": {
      "text/plain": [
       "array([dtype('int64'), dtype('O')], dtype=object)"
      ]
     },
     "execution_count": 5,
     "metadata": {},
     "output_type": "execute_result"
    }
   ],
   "source": [
    "# Find unique data types in the DataFrame\n",
    "unique_data_types = data_types.unique()\n",
    "unique_data_types"
   ]
  },
  {
   "cell_type": "code",
   "execution_count": 6,
   "metadata": {},
   "outputs": [
    {
     "name": "stdout",
     "output_type": "stream",
     "text": [
      "Categorical Variables:\n",
      "['Attrition', 'Department', 'EducationField', 'MaritalStatus']\n",
      "\n",
      "Numeric Variables:\n",
      "['Age', 'DistanceFromHome', 'Education', 'EnvironmentSatisfaction', 'JobSatisfaction', 'MonthlyIncome', 'NumCompaniesWorked', 'WorkLifeBalance', 'YearsAtCompany']\n"
     ]
    }
   ],
   "source": [
    "# Define the list of categorical variables\n",
    "categorical_variables = ['Attrition', 'Department', 'EducationField', 'MaritalStatus']\n",
    "\n",
    "# Define the list of numeric variables\n",
    "numeric_variables = ['Age', 'DistanceFromHome','Education', 'EnvironmentSatisfaction', \n",
    "                     'JobSatisfaction', 'MonthlyIncome','NumCompaniesWorked', 'WorkLifeBalance','YearsAtCompany']\n",
    "\n",
    "# Convert the remaining columns to numeri\n",
    "\n",
    "# Check the updated data types\n",
    "print(\"Categorical Variables:\")\n",
    "print(categorical_variables)\n",
    "print(\"\\nNumeric Variables:\")\n",
    "print(numeric_variables)"
   ]
  },
  {
   "cell_type": "markdown",
   "metadata": {},
   "source": [
    "<strong>RESULT:</strong><br>\n",
    "So far we have integer and object (categorical) variables.<br>\n",
    "Based on the what we are looking, we might convert them to another type."
   ]
  },
  {
   "cell_type": "code",
   "execution_count": null,
   "metadata": {},
   "outputs": [],
   "source": []
  },
  {
   "cell_type": "code",
   "execution_count": 7,
   "metadata": {},
   "outputs": [
    {
     "data": {
      "text/plain": [
       "dtype('O')"
      ]
     },
     "execution_count": 7,
     "metadata": {},
     "output_type": "execute_result"
    }
   ],
   "source": [
    "df['Attrition'].dtype"
   ]
  },
  {
   "cell_type": "markdown",
   "metadata": {},
   "source": [
    "<strong>RESULT:</strong><br>\n",
    "The Attrition variable is an object. (text strings.) It includes Yes and No (str) options."
   ]
  },
  {
   "cell_type": "code",
   "execution_count": null,
   "metadata": {},
   "outputs": [],
   "source": []
  },
  {
   "cell_type": "code",
   "execution_count": 8,
   "metadata": {},
   "outputs": [
    {
     "data": {
      "text/plain": [
       "Attrition\n",
       "No     1233\n",
       "Yes     237\n",
       "Name: count, dtype: int64"
      ]
     },
     "execution_count": 8,
     "metadata": {},
     "output_type": "execute_result"
    }
   ],
   "source": [
    "df['Attrition'].value_counts()"
   ]
  },
  {
   "cell_type": "markdown",
   "metadata": {},
   "source": [
    "<strong>RESULT:</strong><br>\n",
    "However, with value_counts() function shows how many unique values in Series.<br>\n",
    "That's the reason we see the data type is integer.<br>\n",
    "\n",
    "- We have 1233 records No and 237 records Yes (left the job).<br>\n",
    "\n",
    "There is imbalance in class distribution. So, it could be important for certain types of analysis, such as predictive modeling, where class imbalance might need to be addressed.\n"
   ]
  },
  {
   "cell_type": "markdown",
   "metadata": {},
   "source": [
    "### - Label Encoding"
   ]
  },
  {
   "cell_type": "code",
   "execution_count": 9,
   "metadata": {},
   "outputs": [
    {
     "data": {
      "text/plain": [
       "Attrition\n",
       "0    1233\n",
       "1     237\n",
       "Name: count, dtype: int64"
      ]
     },
     "execution_count": 9,
     "metadata": {},
     "output_type": "execute_result"
    }
   ],
   "source": [
    "from sklearn.preprocessing import LabelEncoder\n",
    "\n",
    "# Create an instance of LabelEncoder\n",
    "label_encoder = LabelEncoder()\n",
    "\n",
    "# Fit label encoder and return encoded labels\n",
    "df['Attrition'] = label_encoder.fit_transform(df['Attrition'])\n",
    "\n",
    "df['Attrition'].value_counts()"
   ]
  },
  {
   "cell_type": "code",
   "execution_count": 10,
   "metadata": {},
   "outputs": [
    {
     "data": {
      "text/plain": [
       "dtype('int64')"
      ]
     },
     "execution_count": 10,
     "metadata": {},
     "output_type": "execute_result"
    }
   ],
   "source": [
    "df['Attrition'].dtype"
   ]
  },
  {
   "cell_type": "code",
   "execution_count": 11,
   "metadata": {},
   "outputs": [
    {
     "data": {
      "text/plain": [
       "['Attrition', 'Department', 'EducationField', 'MaritalStatus']"
      ]
     },
     "execution_count": 11,
     "metadata": {},
     "output_type": "execute_result"
    }
   ],
   "source": [
    "categorical_variables"
   ]
  },
  {
   "cell_type": "code",
   "execution_count": 12,
   "metadata": {},
   "outputs": [
    {
     "name": "stdout",
     "output_type": "stream",
     "text": [
      "Categorical Variables:\n",
      "['Department', 'EducationField', 'MaritalStatus']\n",
      "\n",
      "Numeric Variables:\n",
      "['Age', 'DistanceFromHome', 'Education', 'EnvironmentSatisfaction', 'JobSatisfaction', 'MonthlyIncome', 'NumCompaniesWorked', 'WorkLifeBalance', 'YearsAtCompany', 'Attrition']\n"
     ]
    }
   ],
   "source": [
    "# Remove 'Attrition' from categorical variables\n",
    "categorical_variables.remove('Attrition')\n",
    "\n",
    "# Add 'Attrition' to numeric variables\n",
    "numeric_variables.append('Attrition')\n",
    "\n",
    "# Check the updated data types\n",
    "print(\"Categorical Variables:\")\n",
    "print(categorical_variables)\n",
    "print(\"\\nNumeric Variables:\")\n",
    "print(numeric_variables)"
   ]
  },
  {
   "cell_type": "markdown",
   "metadata": {},
   "source": [
    "<strong>RESULT:</strong><br>\n",
    "Now, we converted the Attrition object to numeric data types.<br>\n",
    "A label encoder goes through the categories and gives each one a unique number.<br>\n",
    "We have Yes and No options. So system indicates 1 as a Yes and 0 as a No."
   ]
  },
  {
   "cell_type": "markdown",
   "metadata": {
    "id": "JpWmMyiTowVq"
   },
   "source": [
    "E. Missing values.  Are there any variables in this dataset for which more than half the values are missing?   If so, remove them.  (Note: This is not a trick question – just answer it literally).  \n",
    "- a. *Why might it be dangerous to impute values for variables with a huge % of missingness?*"
   ]
  },
  {
   "cell_type": "code",
   "execution_count": 13,
   "metadata": {},
   "outputs": [
    {
     "name": "stdout",
     "output_type": "stream",
     "text": [
      "<class 'pandas.core.frame.DataFrame'>\n",
      "RangeIndex: 1470 entries, 0 to 1469\n",
      "Data columns (total 13 columns):\n",
      " #   Column                   Non-Null Count  Dtype \n",
      "---  ------                   --------------  ----- \n",
      " 0   Age                      1470 non-null   int64 \n",
      " 1   Attrition                1470 non-null   int64 \n",
      " 2   Department               1470 non-null   object\n",
      " 3   DistanceFromHome         1470 non-null   int64 \n",
      " 4   Education                1470 non-null   int64 \n",
      " 5   EducationField           1470 non-null   object\n",
      " 6   EnvironmentSatisfaction  1470 non-null   int64 \n",
      " 7   JobSatisfaction          1470 non-null   int64 \n",
      " 8   MaritalStatus            1470 non-null   object\n",
      " 9   MonthlyIncome            1470 non-null   int64 \n",
      " 10  NumCompaniesWorked       1470 non-null   int64 \n",
      " 11  WorkLifeBalance          1470 non-null   int64 \n",
      " 12  YearsAtCompany           1470 non-null   int64 \n",
      "dtypes: int64(10), object(3)\n",
      "memory usage: 149.4+ KB\n"
     ]
    }
   ],
   "source": [
    "df.info()"
   ]
  },
  {
   "cell_type": "code",
   "execution_count": 14,
   "metadata": {},
   "outputs": [
    {
     "data": {
      "text/plain": [
       "Age                        0\n",
       "Attrition                  0\n",
       "Department                 0\n",
       "DistanceFromHome           0\n",
       "Education                  0\n",
       "EducationField             0\n",
       "EnvironmentSatisfaction    0\n",
       "JobSatisfaction            0\n",
       "MaritalStatus              0\n",
       "MonthlyIncome              0\n",
       "NumCompaniesWorked         0\n",
       "WorkLifeBalance            0\n",
       "YearsAtCompany             0\n",
       "dtype: int64"
      ]
     },
     "execution_count": 14,
     "metadata": {},
     "output_type": "execute_result"
    }
   ],
   "source": [
    "df.isnull().sum()"
   ]
  },
  {
   "cell_type": "code",
   "execution_count": 15,
   "metadata": {},
   "outputs": [
    {
     "data": {
      "text/plain": [
       "Age                        0\n",
       "Attrition                  0\n",
       "Department                 0\n",
       "DistanceFromHome           0\n",
       "Education                  0\n",
       "EducationField             0\n",
       "EnvironmentSatisfaction    0\n",
       "JobSatisfaction            0\n",
       "MaritalStatus              0\n",
       "MonthlyIncome              0\n",
       "NumCompaniesWorked         0\n",
       "WorkLifeBalance            0\n",
       "YearsAtCompany             0\n",
       "dtype: int64"
      ]
     },
     "execution_count": 15,
     "metadata": {},
     "output_type": "execute_result"
    }
   ],
   "source": [
    "df.isna().sum()"
   ]
  },
  {
   "cell_type": "code",
   "execution_count": 16,
   "metadata": {},
   "outputs": [
    {
     "data": {
      "text/plain": [
       "<Axes: >"
      ]
     },
     "execution_count": 16,
     "metadata": {},
     "output_type": "execute_result"
    },
    {
     "data": {
      "image/png": "[encoded data removed]",
      "text/plain": [
       "<Figure size 2500x1000 with 2 Axes>"
      ]
     },
     "metadata": {},
     "output_type": "display_data"
    }
   ],
   "source": [
    "import missingno as msno\n",
    "msno.matrix(df)"
   ]
  },
  {
   "cell_type": "markdown",
   "metadata": {},
   "source": [
    "<strong>RESULT:</strong><br>\n",
    "We can check the missing values with several approaches: info(), isnull(), isna(), and with missingno package.<br>\n",
    "Those findings show we do not have missing values in our dataset.<br><br>\n",
    "\n",
    "- Missing values could cause a problem during the data exploration through modeling.<br>\n",
    "Imputation is a method of correcting errors and estimating and filling in missing values in a data set.<br>\n",
    "Generally, missing data replace with mean, median or linear regression result.<br>\n",
    "Choosing by approach the other is not easy process because it might highly cause for wrong reputition on data.<br><br>\n",
    "\n",
    "For example:<br>\n",
    "If the data related to income and includes more higher values then average (mean) value would be higher.<br>\n",
    "If we impute missing values with higher mean value, then we cannot have correct perspective of data.<br>\n",
    "(also vice verse. - even the situation will cause outliers.)<br><br>\n",
    "\n",
    "<strong>- What we should do?</strong><br>\n",
    "We should take a look closely the data and decide what option (mean, median, linear regresiion result, or simply dropping) will be better based on the what we are looking for. (descriptive, predictive,prescriptive.)\n",
    "\n",
    "\n",
    "\n",
    "\n",
    "\n"
   ]
  },
  {
   "cell_type": "code",
   "execution_count": null,
   "metadata": {},
   "outputs": [],
   "source": []
  },
  {
   "cell_type": "markdown",
   "metadata": {},
   "source": [
    "## - Correlation\n",
    "Building a correlation table to examine the correlations among the numeric independent variables.  "
   ]
  },
  {
   "cell_type": "code",
   "execution_count": 17,
   "metadata": {},
   "outputs": [
    {
     "data": {
      "text/plain": [
       "['Age',\n",
       " 'DistanceFromHome',\n",
       " 'Education',\n",
       " 'EnvironmentSatisfaction',\n",
       " 'JobSatisfaction',\n",
       " 'MonthlyIncome',\n",
       " 'NumCompaniesWorked',\n",
       " 'WorkLifeBalance',\n",
       " 'YearsAtCompany',\n",
       " 'Attrition']"
      ]
     },
     "execution_count": 17,
     "metadata": {},
     "output_type": "execute_result"
    }
   ],
   "source": [
    "numeric_variables"
   ]
  },
  {
   "cell_type": "markdown",
   "metadata": {},
   "source": [
    "<strong>NOTE:</strong>\n",
    "I sorted variables by MonthlyIncome to display better correlation map."
   ]
  },
  {
   "cell_type": "code",
   "execution_count": 18,
   "metadata": {},
   "outputs": [
    {
     "data": {
      "text/html": [
       "<div>\n",
       "<style scoped>\n",
       "    .dataframe tbody tr th:only-of-type {\n",
       "        vertical-align: middle;\n",
       "    }\n",
       "\n",
       "    .dataframe tbody tr th {\n",
       "        vertical-align: top;\n",
       "    }\n",
       "\n",
       "    .dataframe thead th {\n",
       "        text-align: right;\n",
       "    }\n",
       "</style>\n",
       "<table border=\"1\" class=\"dataframe\">\n",
       "  <thead>\n",
       "    <tr style=\"text-align: right;\">\n",
       "      <th></th>\n",
       "      <th>MonthlyIncome</th>\n",
       "      <th>Attrition</th>\n",
       "      <th>Age</th>\n",
       "      <th>DistanceFromHome</th>\n",
       "      <th>Education</th>\n",
       "      <th>EnvironmentSatisfaction</th>\n",
       "      <th>JobSatisfaction</th>\n",
       "      <th>NumCompaniesWorked</th>\n",
       "      <th>WorkLifeBalance</th>\n",
       "      <th>YearsAtCompany</th>\n",
       "    </tr>\n",
       "  </thead>\n",
       "  <tbody>\n",
       "    <tr>\n",
       "      <th>0</th>\n",
       "      <td>5993</td>\n",
       "      <td>1</td>\n",
       "      <td>41</td>\n",
       "      <td>1</td>\n",
       "      <td>2</td>\n",
       "      <td>2</td>\n",
       "      <td>4</td>\n",
       "      <td>8</td>\n",
       "      <td>1</td>\n",
       "      <td>6</td>\n",
       "    </tr>\n",
       "    <tr>\n",
       "      <th>1</th>\n",
       "      <td>5130</td>\n",
       "      <td>0</td>\n",
       "      <td>49</td>\n",
       "      <td>8</td>\n",
       "      <td>1</td>\n",
       "      <td>3</td>\n",
       "      <td>2</td>\n",
       "      <td>1</td>\n",
       "      <td>3</td>\n",
       "      <td>10</td>\n",
       "    </tr>\n",
       "    <tr>\n",
       "      <th>2</th>\n",
       "      <td>2090</td>\n",
       "      <td>1</td>\n",
       "      <td>37</td>\n",
       "      <td>2</td>\n",
       "      <td>2</td>\n",
       "      <td>4</td>\n",
       "      <td>3</td>\n",
       "      <td>6</td>\n",
       "      <td>3</td>\n",
       "      <td>0</td>\n",
       "    </tr>\n",
       "    <tr>\n",
       "      <th>3</th>\n",
       "      <td>2909</td>\n",
       "      <td>0</td>\n",
       "      <td>33</td>\n",
       "      <td>3</td>\n",
       "      <td>4</td>\n",
       "      <td>4</td>\n",
       "      <td>3</td>\n",
       "      <td>1</td>\n",
       "      <td>3</td>\n",
       "      <td>8</td>\n",
       "    </tr>\n",
       "    <tr>\n",
       "      <th>4</th>\n",
       "      <td>3468</td>\n",
       "      <td>0</td>\n",
       "      <td>27</td>\n",
       "      <td>2</td>\n",
       "      <td>1</td>\n",
       "      <td>1</td>\n",
       "      <td>2</td>\n",
       "      <td>9</td>\n",
       "      <td>3</td>\n",
       "      <td>2</td>\n",
       "    </tr>\n",
       "  </tbody>\n",
       "</table>\n",
       "</div>"
      ],
      "text/plain": [
       "   MonthlyIncome  Attrition  Age  DistanceFromHome  Education  \\\n",
       "0           5993          1   41                 1          2   \n",
       "1           5130          0   49                 8          1   \n",
       "2           2090          1   37                 2          2   \n",
       "3           2909          0   33                 3          4   \n",
       "4           3468          0   27                 2          1   \n",
       "\n",
       "   EnvironmentSatisfaction  JobSatisfaction  NumCompaniesWorked  \\\n",
       "0                        2                4                   8   \n",
       "1                        3                2                   1   \n",
       "2                        4                3                   6   \n",
       "3                        4                3                   1   \n",
       "4                        1                2                   9   \n",
       "\n",
       "   WorkLifeBalance  YearsAtCompany  \n",
       "0                1               6  \n",
       "1                3              10  \n",
       "2                3               0  \n",
       "3                3               8  \n",
       "4                3               2  "
      ]
     },
     "execution_count": 18,
     "metadata": {},
     "output_type": "execute_result"
    }
   ],
   "source": [
    "df_num_sorted = df.reindex(columns = ['MonthlyIncome','Attrition','Age','DistanceFromHome','Education','EnvironmentSatisfaction',\n",
    " 'JobSatisfaction', 'NumCompaniesWorked', 'WorkLifeBalance','YearsAtCompany'])\n",
    "\n",
    "df_num_sorted.head()"
   ]
  },
  {
   "cell_type": "code",
   "execution_count": 19,
   "metadata": {
    "scrolled": true
   },
   "outputs": [
    {
     "data": {
      "text/html": [
       "<style type=\"text/css\">\n",
       "#T_9809d_row0_col0, #T_9809d_row1_col1, #T_9809d_row2_col2, #T_9809d_row3_col3, #T_9809d_row4_col4, #T_9809d_row5_col5, #T_9809d_row6_col6, #T_9809d_row7_col7, #T_9809d_row8_col8, #T_9809d_row9_col9 {\n",
       "  background-color: #b40426;\n",
       "  color: #f1f1f1;\n",
       "}\n",
       "#T_9809d_row0_col1, #T_9809d_row1_col0, #T_9809d_row1_col2, #T_9809d_row1_col4, #T_9809d_row1_col5, #T_9809d_row1_col6, #T_9809d_row1_col8, #T_9809d_row1_col9, #T_9809d_row2_col1, #T_9809d_row7_col3, #T_9809d_row8_col3, #T_9809d_row9_col7 {\n",
       "  background-color: #3b4cc0;\n",
       "  color: #f1f1f1;\n",
       "}\n",
       "#T_9809d_row0_col2, #T_9809d_row2_col0 {\n",
       "  background-color: #edd2c3;\n",
       "  color: #000000;\n",
       "}\n",
       "#T_9809d_row0_col3, #T_9809d_row5_col3, #T_9809d_row7_col9 {\n",
       "  background-color: #3e51c5;\n",
       "  color: #f1f1f1;\n",
       "}\n",
       "#T_9809d_row0_col4, #T_9809d_row3_col0 {\n",
       "  background-color: #6180e9;\n",
       "  color: #f1f1f1;\n",
       "}\n",
       "#T_9809d_row0_col5, #T_9809d_row0_col6, #T_9809d_row0_col8, #T_9809d_row2_col6, #T_9809d_row5_col6, #T_9809d_row5_col8, #T_9809d_row6_col5 {\n",
       "  background-color: #5572df;\n",
       "  color: #f1f1f1;\n",
       "}\n",
       "#T_9809d_row0_col7 {\n",
       "  background-color: #89acfd;\n",
       "  color: #000000;\n",
       "}\n",
       "#T_9809d_row0_col9 {\n",
       "  background-color: #edd1c2;\n",
       "  color: #000000;\n",
       "}\n",
       "#T_9809d_row1_col3, #T_9809d_row2_col5, #T_9809d_row7_col5 {\n",
       "  background-color: #5a78e4;\n",
       "  color: #f1f1f1;\n",
       "}\n",
       "#T_9809d_row1_col7, #T_9809d_row5_col2 {\n",
       "  background-color: #688aef;\n",
       "  color: #f1f1f1;\n",
       "}\n",
       "#T_9809d_row2_col3, #T_9809d_row6_col3 {\n",
       "  background-color: #4257c9;\n",
       "  color: #f1f1f1;\n",
       "}\n",
       "#T_9809d_row2_col4 {\n",
       "  background-color: #86a9fc;\n",
       "  color: #f1f1f1;\n",
       "}\n",
       "#T_9809d_row2_col7 {\n",
       "  background-color: #b7cff9;\n",
       "  color: #000000;\n",
       "}\n",
       "#T_9809d_row2_col8, #T_9809d_row6_col8, #T_9809d_row8_col4 {\n",
       "  background-color: #465ecf;\n",
       "  color: #f1f1f1;\n",
       "}\n",
       "#T_9809d_row2_col9 {\n",
       "  background-color: #bed2f6;\n",
       "  color: #000000;\n",
       "}\n",
       "#T_9809d_row3_col1 {\n",
       "  background-color: #7da0f9;\n",
       "  color: #f1f1f1;\n",
       "}\n",
       "#T_9809d_row3_col2, #T_9809d_row6_col2 {\n",
       "  background-color: #6485ec;\n",
       "  color: #f1f1f1;\n",
       "}\n",
       "#T_9809d_row3_col4, #T_9809d_row7_col8 {\n",
       "  background-color: #4a63d3;\n",
       "  color: #f1f1f1;\n",
       "}\n",
       "#T_9809d_row3_col5, #T_9809d_row3_col7 {\n",
       "  background-color: #536edd;\n",
       "  color: #f1f1f1;\n",
       "}\n",
       "#T_9809d_row3_col6, #T_9809d_row9_col6 {\n",
       "  background-color: #5673e0;\n",
       "  color: #f1f1f1;\n",
       "}\n",
       "#T_9809d_row3_col8 {\n",
       "  background-color: #445acc;\n",
       "  color: #f1f1f1;\n",
       "}\n",
       "#T_9809d_row3_col9 {\n",
       "  background-color: #6282ea;\n",
       "  color: #f1f1f1;\n",
       "}\n",
       "#T_9809d_row4_col0, #T_9809d_row4_col7 {\n",
       "  background-color: #82a6fb;\n",
       "  color: #f1f1f1;\n",
       "}\n",
       "#T_9809d_row4_col1 {\n",
       "  background-color: #5d7ce6;\n",
       "  color: #f1f1f1;\n",
       "}\n",
       "#T_9809d_row4_col2 {\n",
       "  background-color: #a5c3fe;\n",
       "  color: #000000;\n",
       "}\n",
       "#T_9809d_row4_col3, #T_9809d_row5_col1, #T_9809d_row6_col1 {\n",
       "  background-color: #4961d2;\n",
       "  color: #f1f1f1;\n",
       "}\n",
       "#T_9809d_row4_col5, #T_9809d_row4_col8 {\n",
       "  background-color: #4f69d9;\n",
       "  color: #f1f1f1;\n",
       "}\n",
       "#T_9809d_row4_col6, #T_9809d_row8_col1 {\n",
       "  background-color: #5470de;\n",
       "  color: #f1f1f1;\n",
       "}\n",
       "#T_9809d_row4_col9 {\n",
       "  background-color: #7396f5;\n",
       "  color: #f1f1f1;\n",
       "}\n",
       "#T_9809d_row5_col0, #T_9809d_row6_col0, #T_9809d_row8_col9 {\n",
       "  background-color: #6384eb;\n",
       "  color: #f1f1f1;\n",
       "}\n",
       "#T_9809d_row5_col4 {\n",
       "  background-color: #3c4ec2;\n",
       "  color: #f1f1f1;\n",
       "}\n",
       "#T_9809d_row5_col7, #T_9809d_row6_col9 {\n",
       "  background-color: #5e7de7;\n",
       "  color: #f1f1f1;\n",
       "}\n",
       "#T_9809d_row5_col9, #T_9809d_row8_col2, #T_9809d_row8_col5 {\n",
       "  background-color: #5f7fe8;\n",
       "  color: #f1f1f1;\n",
       "}\n",
       "#T_9809d_row6_col4 {\n",
       "  background-color: #3f53c6;\n",
       "  color: #f1f1f1;\n",
       "}\n",
       "#T_9809d_row6_col7 {\n",
       "  background-color: #4b64d5;\n",
       "  color: #f1f1f1;\n",
       "}\n",
       "#T_9809d_row7_col0 {\n",
       "  background-color: #93b5fe;\n",
       "  color: #000000;\n",
       "}\n",
       "#T_9809d_row7_col1 {\n",
       "  background-color: #7295f4;\n",
       "  color: #f1f1f1;\n",
       "}\n",
       "#T_9809d_row7_col2 {\n",
       "  background-color: #bfd3f6;\n",
       "  color: #000000;\n",
       "}\n",
       "#T_9809d_row7_col4 {\n",
       "  background-color: #6b8df0;\n",
       "  color: #f1f1f1;\n",
       "}\n",
       "#T_9809d_row7_col6 {\n",
       "  background-color: #485fd1;\n",
       "  color: #f1f1f1;\n",
       "}\n",
       "#T_9809d_row8_col0 {\n",
       "  background-color: #6f92f3;\n",
       "  color: #f1f1f1;\n",
       "}\n",
       "#T_9809d_row8_col6 {\n",
       "  background-color: #516ddb;\n",
       "  color: #f1f1f1;\n",
       "}\n",
       "#T_9809d_row8_col7 {\n",
       "  background-color: #5977e3;\n",
       "  color: #f1f1f1;\n",
       "}\n",
       "#T_9809d_row9_col0 {\n",
       "  background-color: #efcfbf;\n",
       "  color: #000000;\n",
       "}\n",
       "#T_9809d_row9_col1 {\n",
       "  background-color: #4055c8;\n",
       "  color: #f1f1f1;\n",
       "}\n",
       "#T_9809d_row9_col2 {\n",
       "  background-color: #c1d4f4;\n",
       "  color: #000000;\n",
       "}\n",
       "#T_9809d_row9_col3 {\n",
       "  background-color: #455cce;\n",
       "  color: #f1f1f1;\n",
       "}\n",
       "#T_9809d_row9_col4, #T_9809d_row9_col5 {\n",
       "  background-color: #5875e1;\n",
       "  color: #f1f1f1;\n",
       "}\n",
       "#T_9809d_row9_col8 {\n",
       "  background-color: #506bda;\n",
       "  color: #f1f1f1;\n",
       "}\n",
       "</style>\n",
       "<table id=\"T_9809d\">\n",
       "  <thead>\n",
       "    <tr>\n",
       "      <th class=\"blank level0\" >&nbsp;</th>\n",
       "      <th id=\"T_9809d_level0_col0\" class=\"col_heading level0 col0\" >MonthlyIncome</th>\n",
       "      <th id=\"T_9809d_level0_col1\" class=\"col_heading level0 col1\" >Attrition</th>\n",
       "      <th id=\"T_9809d_level0_col2\" class=\"col_heading level0 col2\" >Age</th>\n",
       "      <th id=\"T_9809d_level0_col3\" class=\"col_heading level0 col3\" >DistanceFromHome</th>\n",
       "      <th id=\"T_9809d_level0_col4\" class=\"col_heading level0 col4\" >Education</th>\n",
       "      <th id=\"T_9809d_level0_col5\" class=\"col_heading level0 col5\" >EnvironmentSatisfaction</th>\n",
       "      <th id=\"T_9809d_level0_col6\" class=\"col_heading level0 col6\" >JobSatisfaction</th>\n",
       "      <th id=\"T_9809d_level0_col7\" class=\"col_heading level0 col7\" >NumCompaniesWorked</th>\n",
       "      <th id=\"T_9809d_level0_col8\" class=\"col_heading level0 col8\" >WorkLifeBalance</th>\n",
       "      <th id=\"T_9809d_level0_col9\" class=\"col_heading level0 col9\" >YearsAtCompany</th>\n",
       "    </tr>\n",
       "  </thead>\n",
       "  <tbody>\n",
       "    <tr>\n",
       "      <th id=\"T_9809d_level0_row0\" class=\"row_heading level0 row0\" >MonthlyIncome</th>\n",
       "      <td id=\"T_9809d_row0_col0\" class=\"data row0 col0\" >1.000000</td>\n",
       "      <td id=\"T_9809d_row0_col1\" class=\"data row0 col1\" >-0.159840</td>\n",
       "      <td id=\"T_9809d_row0_col2\" class=\"data row0 col2\" >0.497855</td>\n",
       "      <td id=\"T_9809d_row0_col3\" class=\"data row0 col3\" >-0.017014</td>\n",
       "      <td id=\"T_9809d_row0_col4\" class=\"data row0 col4\" >0.094961</td>\n",
       "      <td id=\"T_9809d_row0_col5\" class=\"data row0 col5\" >-0.006259</td>\n",
       "      <td id=\"T_9809d_row0_col6\" class=\"data row0 col6\" >-0.007157</td>\n",
       "      <td id=\"T_9809d_row0_col7\" class=\"data row0 col7\" >0.149515</td>\n",
       "      <td id=\"T_9809d_row0_col8\" class=\"data row0 col8\" >0.030683</td>\n",
       "      <td id=\"T_9809d_row0_col9\" class=\"data row0 col9\" >0.514285</td>\n",
       "    </tr>\n",
       "    <tr>\n",
       "      <th id=\"T_9809d_level0_row1\" class=\"row_heading level0 row1\" >Attrition</th>\n",
       "      <td id=\"T_9809d_row1_col0\" class=\"data row1 col0\" >-0.159840</td>\n",
       "      <td id=\"T_9809d_row1_col1\" class=\"data row1 col1\" >1.000000</td>\n",
       "      <td id=\"T_9809d_row1_col2\" class=\"data row1 col2\" >-0.159205</td>\n",
       "      <td id=\"T_9809d_row1_col3\" class=\"data row1 col3\" >0.077924</td>\n",
       "      <td id=\"T_9809d_row1_col4\" class=\"data row1 col4\" >-0.031373</td>\n",
       "      <td id=\"T_9809d_row1_col5\" class=\"data row1 col5\" >-0.103369</td>\n",
       "      <td id=\"T_9809d_row1_col6\" class=\"data row1 col6\" >-0.103481</td>\n",
       "      <td id=\"T_9809d_row1_col7\" class=\"data row1 col7\" >0.043494</td>\n",
       "      <td id=\"T_9809d_row1_col8\" class=\"data row1 col8\" >-0.063939</td>\n",
       "      <td id=\"T_9809d_row1_col9\" class=\"data row1 col9\" >-0.134392</td>\n",
       "    </tr>\n",
       "    <tr>\n",
       "      <th id=\"T_9809d_level0_row2\" class=\"row_heading level0 row2\" >Age</th>\n",
       "      <td id=\"T_9809d_row2_col0\" class=\"data row2 col0\" >0.497855</td>\n",
       "      <td id=\"T_9809d_row2_col1\" class=\"data row2 col1\" >-0.159205</td>\n",
       "      <td id=\"T_9809d_row2_col2\" class=\"data row2 col2\" >1.000000</td>\n",
       "      <td id=\"T_9809d_row2_col3\" class=\"data row2 col3\" >-0.001686</td>\n",
       "      <td id=\"T_9809d_row2_col4\" class=\"data row2 col4\" >0.208034</td>\n",
       "      <td id=\"T_9809d_row2_col5\" class=\"data row2 col5\" >0.010146</td>\n",
       "      <td id=\"T_9809d_row2_col6\" class=\"data row2 col6\" >-0.004892</td>\n",
       "      <td id=\"T_9809d_row2_col7\" class=\"data row2 col7\" >0.299635</td>\n",
       "      <td id=\"T_9809d_row2_col8\" class=\"data row2 col8\" >-0.021490</td>\n",
       "      <td id=\"T_9809d_row2_col9\" class=\"data row2 col9\" >0.311309</td>\n",
       "    </tr>\n",
       "    <tr>\n",
       "      <th id=\"T_9809d_level0_row3\" class=\"row_heading level0 row3\" >DistanceFromHome</th>\n",
       "      <td id=\"T_9809d_row3_col0\" class=\"data row3 col0\" >-0.017014</td>\n",
       "      <td id=\"T_9809d_row3_col1\" class=\"data row3 col1\" >0.077924</td>\n",
       "      <td id=\"T_9809d_row3_col2\" class=\"data row3 col2\" >-0.001686</td>\n",
       "      <td id=\"T_9809d_row3_col3\" class=\"data row3 col3\" >1.000000</td>\n",
       "      <td id=\"T_9809d_row3_col4\" class=\"data row3 col4\" >0.021042</td>\n",
       "      <td id=\"T_9809d_row3_col5\" class=\"data row3 col5\" >-0.016075</td>\n",
       "      <td id=\"T_9809d_row3_col6\" class=\"data row3 col6\" >-0.003669</td>\n",
       "      <td id=\"T_9809d_row3_col7\" class=\"data row3 col7\" >-0.029251</td>\n",
       "      <td id=\"T_9809d_row3_col8\" class=\"data row3 col8\" >-0.026556</td>\n",
       "      <td id=\"T_9809d_row3_col9\" class=\"data row3 col9\" >0.009508</td>\n",
       "    </tr>\n",
       "    <tr>\n",
       "      <th id=\"T_9809d_level0_row4\" class=\"row_heading level0 row4\" >Education</th>\n",
       "      <td id=\"T_9809d_row4_col0\" class=\"data row4 col0\" >0.094961</td>\n",
       "      <td id=\"T_9809d_row4_col1\" class=\"data row4 col1\" >-0.031373</td>\n",
       "      <td id=\"T_9809d_row4_col2\" class=\"data row4 col2\" >0.208034</td>\n",
       "      <td id=\"T_9809d_row4_col3\" class=\"data row4 col3\" >0.021042</td>\n",
       "      <td id=\"T_9809d_row4_col4\" class=\"data row4 col4\" >1.000000</td>\n",
       "      <td id=\"T_9809d_row4_col5\" class=\"data row4 col5\" >-0.027128</td>\n",
       "      <td id=\"T_9809d_row4_col6\" class=\"data row4 col6\" >-0.011296</td>\n",
       "      <td id=\"T_9809d_row4_col7\" class=\"data row4 col7\" >0.126317</td>\n",
       "      <td id=\"T_9809d_row4_col8\" class=\"data row4 col8\" >0.009819</td>\n",
       "      <td id=\"T_9809d_row4_col9\" class=\"data row4 col9\" >0.069114</td>\n",
       "    </tr>\n",
       "    <tr>\n",
       "      <th id=\"T_9809d_level0_row5\" class=\"row_heading level0 row5\" >EnvironmentSatisfaction</th>\n",
       "      <td id=\"T_9809d_row5_col0\" class=\"data row5 col0\" >-0.006259</td>\n",
       "      <td id=\"T_9809d_row5_col1\" class=\"data row5 col1\" >-0.103369</td>\n",
       "      <td id=\"T_9809d_row5_col2\" class=\"data row5 col2\" >0.010146</td>\n",
       "      <td id=\"T_9809d_row5_col3\" class=\"data row5 col3\" >-0.016075</td>\n",
       "      <td id=\"T_9809d_row5_col4\" class=\"data row5 col4\" >-0.027128</td>\n",
       "      <td id=\"T_9809d_row5_col5\" class=\"data row5 col5\" >1.000000</td>\n",
       "      <td id=\"T_9809d_row5_col6\" class=\"data row5 col6\" >-0.006784</td>\n",
       "      <td id=\"T_9809d_row5_col7\" class=\"data row5 col7\" >0.012594</td>\n",
       "      <td id=\"T_9809d_row5_col8\" class=\"data row5 col8\" >0.027627</td>\n",
       "      <td id=\"T_9809d_row5_col9\" class=\"data row5 col9\" >0.001458</td>\n",
       "    </tr>\n",
       "    <tr>\n",
       "      <th id=\"T_9809d_level0_row6\" class=\"row_heading level0 row6\" >JobSatisfaction</th>\n",
       "      <td id=\"T_9809d_row6_col0\" class=\"data row6 col0\" >-0.007157</td>\n",
       "      <td id=\"T_9809d_row6_col1\" class=\"data row6 col1\" >-0.103481</td>\n",
       "      <td id=\"T_9809d_row6_col2\" class=\"data row6 col2\" >-0.004892</td>\n",
       "      <td id=\"T_9809d_row6_col3\" class=\"data row6 col3\" >-0.003669</td>\n",
       "      <td id=\"T_9809d_row6_col4\" class=\"data row6 col4\" >-0.011296</td>\n",
       "      <td id=\"T_9809d_row6_col5\" class=\"data row6 col5\" >-0.006784</td>\n",
       "      <td id=\"T_9809d_row6_col6\" class=\"data row6 col6\" >1.000000</td>\n",
       "      <td id=\"T_9809d_row6_col7\" class=\"data row6 col7\" >-0.055699</td>\n",
       "      <td id=\"T_9809d_row6_col8\" class=\"data row6 col8\" >-0.019459</td>\n",
       "      <td id=\"T_9809d_row6_col9\" class=\"data row6 col9\" >-0.003803</td>\n",
       "    </tr>\n",
       "    <tr>\n",
       "      <th id=\"T_9809d_level0_row7\" class=\"row_heading level0 row7\" >NumCompaniesWorked</th>\n",
       "      <td id=\"T_9809d_row7_col0\" class=\"data row7 col0\" >0.149515</td>\n",
       "      <td id=\"T_9809d_row7_col1\" class=\"data row7 col1\" >0.043494</td>\n",
       "      <td id=\"T_9809d_row7_col2\" class=\"data row7 col2\" >0.299635</td>\n",
       "      <td id=\"T_9809d_row7_col3\" class=\"data row7 col3\" >-0.029251</td>\n",
       "      <td id=\"T_9809d_row7_col4\" class=\"data row7 col4\" >0.126317</td>\n",
       "      <td id=\"T_9809d_row7_col5\" class=\"data row7 col5\" >0.012594</td>\n",
       "      <td id=\"T_9809d_row7_col6\" class=\"data row7 col6\" >-0.055699</td>\n",
       "      <td id=\"T_9809d_row7_col7\" class=\"data row7 col7\" >1.000000</td>\n",
       "      <td id=\"T_9809d_row7_col8\" class=\"data row7 col8\" >-0.008366</td>\n",
       "      <td id=\"T_9809d_row7_col9\" class=\"data row7 col9\" >-0.118421</td>\n",
       "    </tr>\n",
       "    <tr>\n",
       "      <th id=\"T_9809d_level0_row8\" class=\"row_heading level0 row8\" >WorkLifeBalance</th>\n",
       "      <td id=\"T_9809d_row8_col0\" class=\"data row8 col0\" >0.030683</td>\n",
       "      <td id=\"T_9809d_row8_col1\" class=\"data row8 col1\" >-0.063939</td>\n",
       "      <td id=\"T_9809d_row8_col2\" class=\"data row8 col2\" >-0.021490</td>\n",
       "      <td id=\"T_9809d_row8_col3\" class=\"data row8 col3\" >-0.026556</td>\n",
       "      <td id=\"T_9809d_row8_col4\" class=\"data row8 col4\" >0.009819</td>\n",
       "      <td id=\"T_9809d_row8_col5\" class=\"data row8 col5\" >0.027627</td>\n",
       "      <td id=\"T_9809d_row8_col6\" class=\"data row8 col6\" >-0.019459</td>\n",
       "      <td id=\"T_9809d_row8_col7\" class=\"data row8 col7\" >-0.008366</td>\n",
       "      <td id=\"T_9809d_row8_col8\" class=\"data row8 col8\" >1.000000</td>\n",
       "      <td id=\"T_9809d_row8_col9\" class=\"data row8 col9\" >0.012089</td>\n",
       "    </tr>\n",
       "    <tr>\n",
       "      <th id=\"T_9809d_level0_row9\" class=\"row_heading level0 row9\" >YearsAtCompany</th>\n",
       "      <td id=\"T_9809d_row9_col0\" class=\"data row9 col0\" >0.514285</td>\n",
       "      <td id=\"T_9809d_row9_col1\" class=\"data row9 col1\" >-0.134392</td>\n",
       "      <td id=\"T_9809d_row9_col2\" class=\"data row9 col2\" >0.311309</td>\n",
       "      <td id=\"T_9809d_row9_col3\" class=\"data row9 col3\" >0.009508</td>\n",
       "      <td id=\"T_9809d_row9_col4\" class=\"data row9 col4\" >0.069114</td>\n",
       "      <td id=\"T_9809d_row9_col5\" class=\"data row9 col5\" >0.001458</td>\n",
       "      <td id=\"T_9809d_row9_col6\" class=\"data row9 col6\" >-0.003803</td>\n",
       "      <td id=\"T_9809d_row9_col7\" class=\"data row9 col7\" >-0.118421</td>\n",
       "      <td id=\"T_9809d_row9_col8\" class=\"data row9 col8\" >0.012089</td>\n",
       "      <td id=\"T_9809d_row9_col9\" class=\"data row9 col9\" >1.000000</td>\n",
       "    </tr>\n",
       "  </tbody>\n",
       "</table>\n"
      ],
      "text/plain": [
       "<pandas.io.formats.style.Styler at 0x160c39b90>"
      ]
     },
     "execution_count": 19,
     "metadata": {},
     "output_type": "execute_result"
    }
   ],
   "source": [
    "cor_num_sorted = df_num_sorted.corr()\n",
    "cor_num_sorted.style.background_gradient(cmap='coolwarm')"
   ]
  },
  {
   "cell_type": "markdown",
   "metadata": {},
   "source": [
    "<strong>RESULT:</strong><br><br>\n",
    "\n",
    "<b>Attrition</b> shows a negative correlation with MonthlyIncome at -0.159, which is relatively low.\n",
    "The other variables show very low to moderate correlations.<br><br>\n",
    "\n",
    "<b>MonthlyIncome</b> and <b>YearsAtCompany</b> have the highest correlation with <b>Age</b>, at approximately 0.498 and 0.514 respectively.<br>\n",
    "While these are moderate correlations, they are not typically considered high enough (common treshold 0.7 - 0.8) to indicate problems with multicollinearity.<br>\n",
    "\n",
    "- However, they still mightly make a cause. So, I chose to drop them.\n",
    "\n",
    "\n"
   ]
  },
  {
   "cell_type": "code",
   "execution_count": 20,
   "metadata": {
    "scrolled": true
   },
   "outputs": [
    {
     "data": {
      "text/html": [
       "<style type=\"text/css\">\n",
       "#T_7237c_row0_col0, #T_7237c_row1_col1, #T_7237c_row2_col2, #T_7237c_row3_col3, #T_7237c_row4_col4, #T_7237c_row5_col5, #T_7237c_row6_col6, #T_7237c_row7_col7 {\n",
       "  background-color: #b40426;\n",
       "  color: #f1f1f1;\n",
       "}\n",
       "#T_7237c_row0_col1, #T_7237c_row5_col3 {\n",
       "  background-color: #5a78e4;\n",
       "  color: #f1f1f1;\n",
       "}\n",
       "#T_7237c_row0_col2, #T_7237c_row0_col3, #T_7237c_row0_col4, #T_7237c_row0_col6, #T_7237c_row0_col7, #T_7237c_row5_col1, #T_7237c_row6_col1, #T_7237c_row7_col0, #T_7237c_row7_col5 {\n",
       "  background-color: #3b4cc0;\n",
       "  color: #f1f1f1;\n",
       "}\n",
       "#T_7237c_row0_col5 {\n",
       "  background-color: #688aef;\n",
       "  color: #f1f1f1;\n",
       "}\n",
       "#T_7237c_row1_col0 {\n",
       "  background-color: #7699f6;\n",
       "  color: #f1f1f1;\n",
       "}\n",
       "#T_7237c_row1_col2, #T_7237c_row5_col6 {\n",
       "  background-color: #4a63d3;\n",
       "  color: #f1f1f1;\n",
       "}\n",
       "#T_7237c_row1_col3, #T_7237c_row1_col5 {\n",
       "  background-color: #536edd;\n",
       "  color: #f1f1f1;\n",
       "}\n",
       "#T_7237c_row1_col4, #T_7237c_row2_col0, #T_7237c_row7_col4 {\n",
       "  background-color: #5673e0;\n",
       "  color: #f1f1f1;\n",
       "}\n",
       "#T_7237c_row1_col6 {\n",
       "  background-color: #445acc;\n",
       "  color: #f1f1f1;\n",
       "}\n",
       "#T_7237c_row1_col7 {\n",
       "  background-color: #6282ea;\n",
       "  color: #f1f1f1;\n",
       "}\n",
       "#T_7237c_row2_col1 {\n",
       "  background-color: #4961d2;\n",
       "  color: #f1f1f1;\n",
       "}\n",
       "#T_7237c_row2_col3, #T_7237c_row2_col6 {\n",
       "  background-color: #4f69d9;\n",
       "  color: #f1f1f1;\n",
       "}\n",
       "#T_7237c_row2_col4 {\n",
       "  background-color: #5470de;\n",
       "  color: #f1f1f1;\n",
       "}\n",
       "#T_7237c_row2_col5 {\n",
       "  background-color: #82a6fb;\n",
       "  color: #f1f1f1;\n",
       "}\n",
       "#T_7237c_row2_col7 {\n",
       "  background-color: #7396f5;\n",
       "  color: #f1f1f1;\n",
       "}\n",
       "#T_7237c_row3_col0 {\n",
       "  background-color: #4358cb;\n",
       "  color: #f1f1f1;\n",
       "}\n",
       "#T_7237c_row3_col1, #T_7237c_row5_col7 {\n",
       "  background-color: #3e51c5;\n",
       "  color: #f1f1f1;\n",
       "}\n",
       "#T_7237c_row3_col2 {\n",
       "  background-color: #3c4ec2;\n",
       "  color: #f1f1f1;\n",
       "}\n",
       "#T_7237c_row3_col4, #T_7237c_row3_col6, #T_7237c_row4_col3 {\n",
       "  background-color: #5572df;\n",
       "  color: #f1f1f1;\n",
       "}\n",
       "#T_7237c_row3_col5, #T_7237c_row4_col7 {\n",
       "  background-color: #5e7de7;\n",
       "  color: #f1f1f1;\n",
       "}\n",
       "#T_7237c_row3_col7, #T_7237c_row6_col3 {\n",
       "  background-color: #5f7fe8;\n",
       "  color: #f1f1f1;\n",
       "}\n",
       "#T_7237c_row4_col0, #T_7237c_row4_col1 {\n",
       "  background-color: #4257c9;\n",
       "  color: #f1f1f1;\n",
       "}\n",
       "#T_7237c_row4_col2 {\n",
       "  background-color: #3f53c6;\n",
       "  color: #f1f1f1;\n",
       "}\n",
       "#T_7237c_row4_col5 {\n",
       "  background-color: #4b64d5;\n",
       "  color: #f1f1f1;\n",
       "}\n",
       "#T_7237c_row4_col6, #T_7237c_row6_col2 {\n",
       "  background-color: #465ecf;\n",
       "  color: #f1f1f1;\n",
       "}\n",
       "#T_7237c_row5_col0 {\n",
       "  background-color: #6c8ff1;\n",
       "  color: #f1f1f1;\n",
       "}\n",
       "#T_7237c_row5_col2 {\n",
       "  background-color: #6b8df0;\n",
       "  color: #f1f1f1;\n",
       "}\n",
       "#T_7237c_row5_col4 {\n",
       "  background-color: #485fd1;\n",
       "  color: #f1f1f1;\n",
       "}\n",
       "#T_7237c_row6_col0 {\n",
       "  background-color: #4c66d6;\n",
       "  color: #f1f1f1;\n",
       "}\n",
       "#T_7237c_row6_col4 {\n",
       "  background-color: #516ddb;\n",
       "  color: #f1f1f1;\n",
       "}\n",
       "#T_7237c_row6_col5 {\n",
       "  background-color: #5977e3;\n",
       "  color: #f1f1f1;\n",
       "}\n",
       "#T_7237c_row6_col7 {\n",
       "  background-color: #6384eb;\n",
       "  color: #f1f1f1;\n",
       "}\n",
       "#T_7237c_row7_col1 {\n",
       "  background-color: #455cce;\n",
       "  color: #f1f1f1;\n",
       "}\n",
       "#T_7237c_row7_col2, #T_7237c_row7_col3 {\n",
       "  background-color: #5875e1;\n",
       "  color: #f1f1f1;\n",
       "}\n",
       "#T_7237c_row7_col6 {\n",
       "  background-color: #506bda;\n",
       "  color: #f1f1f1;\n",
       "}\n",
       "</style>\n",
       "<table id=\"T_7237c\">\n",
       "  <thead>\n",
       "    <tr>\n",
       "      <th class=\"blank level0\" >&nbsp;</th>\n",
       "      <th id=\"T_7237c_level0_col0\" class=\"col_heading level0 col0\" >Attrition</th>\n",
       "      <th id=\"T_7237c_level0_col1\" class=\"col_heading level0 col1\" >DistanceFromHome</th>\n",
       "      <th id=\"T_7237c_level0_col2\" class=\"col_heading level0 col2\" >Education</th>\n",
       "      <th id=\"T_7237c_level0_col3\" class=\"col_heading level0 col3\" >EnvironmentSatisfaction</th>\n",
       "      <th id=\"T_7237c_level0_col4\" class=\"col_heading level0 col4\" >JobSatisfaction</th>\n",
       "      <th id=\"T_7237c_level0_col5\" class=\"col_heading level0 col5\" >NumCompaniesWorked</th>\n",
       "      <th id=\"T_7237c_level0_col6\" class=\"col_heading level0 col6\" >WorkLifeBalance</th>\n",
       "      <th id=\"T_7237c_level0_col7\" class=\"col_heading level0 col7\" >YearsAtCompany</th>\n",
       "    </tr>\n",
       "  </thead>\n",
       "  <tbody>\n",
       "    <tr>\n",
       "      <th id=\"T_7237c_level0_row0\" class=\"row_heading level0 row0\" >Attrition</th>\n",
       "      <td id=\"T_7237c_row0_col0\" class=\"data row0 col0\" >1.000000</td>\n",
       "      <td id=\"T_7237c_row0_col1\" class=\"data row0 col1\" >0.077924</td>\n",
       "      <td id=\"T_7237c_row0_col2\" class=\"data row0 col2\" >-0.031373</td>\n",
       "      <td id=\"T_7237c_row0_col3\" class=\"data row0 col3\" >-0.103369</td>\n",
       "      <td id=\"T_7237c_row0_col4\" class=\"data row0 col4\" >-0.103481</td>\n",
       "      <td id=\"T_7237c_row0_col5\" class=\"data row0 col5\" >0.043494</td>\n",
       "      <td id=\"T_7237c_row0_col6\" class=\"data row0 col6\" >-0.063939</td>\n",
       "      <td id=\"T_7237c_row0_col7\" class=\"data row0 col7\" >-0.134392</td>\n",
       "    </tr>\n",
       "    <tr>\n",
       "      <th id=\"T_7237c_level0_row1\" class=\"row_heading level0 row1\" >DistanceFromHome</th>\n",
       "      <td id=\"T_7237c_row1_col0\" class=\"data row1 col0\" >0.077924</td>\n",
       "      <td id=\"T_7237c_row1_col1\" class=\"data row1 col1\" >1.000000</td>\n",
       "      <td id=\"T_7237c_row1_col2\" class=\"data row1 col2\" >0.021042</td>\n",
       "      <td id=\"T_7237c_row1_col3\" class=\"data row1 col3\" >-0.016075</td>\n",
       "      <td id=\"T_7237c_row1_col4\" class=\"data row1 col4\" >-0.003669</td>\n",
       "      <td id=\"T_7237c_row1_col5\" class=\"data row1 col5\" >-0.029251</td>\n",
       "      <td id=\"T_7237c_row1_col6\" class=\"data row1 col6\" >-0.026556</td>\n",
       "      <td id=\"T_7237c_row1_col7\" class=\"data row1 col7\" >0.009508</td>\n",
       "    </tr>\n",
       "    <tr>\n",
       "      <th id=\"T_7237c_level0_row2\" class=\"row_heading level0 row2\" >Education</th>\n",
       "      <td id=\"T_7237c_row2_col0\" class=\"data row2 col0\" >-0.031373</td>\n",
       "      <td id=\"T_7237c_row2_col1\" class=\"data row2 col1\" >0.021042</td>\n",
       "      <td id=\"T_7237c_row2_col2\" class=\"data row2 col2\" >1.000000</td>\n",
       "      <td id=\"T_7237c_row2_col3\" class=\"data row2 col3\" >-0.027128</td>\n",
       "      <td id=\"T_7237c_row2_col4\" class=\"data row2 col4\" >-0.011296</td>\n",
       "      <td id=\"T_7237c_row2_col5\" class=\"data row2 col5\" >0.126317</td>\n",
       "      <td id=\"T_7237c_row2_col6\" class=\"data row2 col6\" >0.009819</td>\n",
       "      <td id=\"T_7237c_row2_col7\" class=\"data row2 col7\" >0.069114</td>\n",
       "    </tr>\n",
       "    <tr>\n",
       "      <th id=\"T_7237c_level0_row3\" class=\"row_heading level0 row3\" >EnvironmentSatisfaction</th>\n",
       "      <td id=\"T_7237c_row3_col0\" class=\"data row3 col0\" >-0.103369</td>\n",
       "      <td id=\"T_7237c_row3_col1\" class=\"data row3 col1\" >-0.016075</td>\n",
       "      <td id=\"T_7237c_row3_col2\" class=\"data row3 col2\" >-0.027128</td>\n",
       "      <td id=\"T_7237c_row3_col3\" class=\"data row3 col3\" >1.000000</td>\n",
       "      <td id=\"T_7237c_row3_col4\" class=\"data row3 col4\" >-0.006784</td>\n",
       "      <td id=\"T_7237c_row3_col5\" class=\"data row3 col5\" >0.012594</td>\n",
       "      <td id=\"T_7237c_row3_col6\" class=\"data row3 col6\" >0.027627</td>\n",
       "      <td id=\"T_7237c_row3_col7\" class=\"data row3 col7\" >0.001458</td>\n",
       "    </tr>\n",
       "    <tr>\n",
       "      <th id=\"T_7237c_level0_row4\" class=\"row_heading level0 row4\" >JobSatisfaction</th>\n",
       "      <td id=\"T_7237c_row4_col0\" class=\"data row4 col0\" >-0.103481</td>\n",
       "      <td id=\"T_7237c_row4_col1\" class=\"data row4 col1\" >-0.003669</td>\n",
       "      <td id=\"T_7237c_row4_col2\" class=\"data row4 col2\" >-0.011296</td>\n",
       "      <td id=\"T_7237c_row4_col3\" class=\"data row4 col3\" >-0.006784</td>\n",
       "      <td id=\"T_7237c_row4_col4\" class=\"data row4 col4\" >1.000000</td>\n",
       "      <td id=\"T_7237c_row4_col5\" class=\"data row4 col5\" >-0.055699</td>\n",
       "      <td id=\"T_7237c_row4_col6\" class=\"data row4 col6\" >-0.019459</td>\n",
       "      <td id=\"T_7237c_row4_col7\" class=\"data row4 col7\" >-0.003803</td>\n",
       "    </tr>\n",
       "    <tr>\n",
       "      <th id=\"T_7237c_level0_row5\" class=\"row_heading level0 row5\" >NumCompaniesWorked</th>\n",
       "      <td id=\"T_7237c_row5_col0\" class=\"data row5 col0\" >0.043494</td>\n",
       "      <td id=\"T_7237c_row5_col1\" class=\"data row5 col1\" >-0.029251</td>\n",
       "      <td id=\"T_7237c_row5_col2\" class=\"data row5 col2\" >0.126317</td>\n",
       "      <td id=\"T_7237c_row5_col3\" class=\"data row5 col3\" >0.012594</td>\n",
       "      <td id=\"T_7237c_row5_col4\" class=\"data row5 col4\" >-0.055699</td>\n",
       "      <td id=\"T_7237c_row5_col5\" class=\"data row5 col5\" >1.000000</td>\n",
       "      <td id=\"T_7237c_row5_col6\" class=\"data row5 col6\" >-0.008366</td>\n",
       "      <td id=\"T_7237c_row5_col7\" class=\"data row5 col7\" >-0.118421</td>\n",
       "    </tr>\n",
       "    <tr>\n",
       "      <th id=\"T_7237c_level0_row6\" class=\"row_heading level0 row6\" >WorkLifeBalance</th>\n",
       "      <td id=\"T_7237c_row6_col0\" class=\"data row6 col0\" >-0.063939</td>\n",
       "      <td id=\"T_7237c_row6_col1\" class=\"data row6 col1\" >-0.026556</td>\n",
       "      <td id=\"T_7237c_row6_col2\" class=\"data row6 col2\" >0.009819</td>\n",
       "      <td id=\"T_7237c_row6_col3\" class=\"data row6 col3\" >0.027627</td>\n",
       "      <td id=\"T_7237c_row6_col4\" class=\"data row6 col4\" >-0.019459</td>\n",
       "      <td id=\"T_7237c_row6_col5\" class=\"data row6 col5\" >-0.008366</td>\n",
       "      <td id=\"T_7237c_row6_col6\" class=\"data row6 col6\" >1.000000</td>\n",
       "      <td id=\"T_7237c_row6_col7\" class=\"data row6 col7\" >0.012089</td>\n",
       "    </tr>\n",
       "    <tr>\n",
       "      <th id=\"T_7237c_level0_row7\" class=\"row_heading level0 row7\" >YearsAtCompany</th>\n",
       "      <td id=\"T_7237c_row7_col0\" class=\"data row7 col0\" >-0.134392</td>\n",
       "      <td id=\"T_7237c_row7_col1\" class=\"data row7 col1\" >0.009508</td>\n",
       "      <td id=\"T_7237c_row7_col2\" class=\"data row7 col2\" >0.069114</td>\n",
       "      <td id=\"T_7237c_row7_col3\" class=\"data row7 col3\" >0.001458</td>\n",
       "      <td id=\"T_7237c_row7_col4\" class=\"data row7 col4\" >-0.003803</td>\n",
       "      <td id=\"T_7237c_row7_col5\" class=\"data row7 col5\" >-0.118421</td>\n",
       "      <td id=\"T_7237c_row7_col6\" class=\"data row7 col6\" >0.012089</td>\n",
       "      <td id=\"T_7237c_row7_col7\" class=\"data row7 col7\" >1.000000</td>\n",
       "    </tr>\n",
       "  </tbody>\n",
       "</table>\n"
      ],
      "text/plain": [
       "<pandas.io.formats.style.Styler at 0x1651f4b10>"
      ]
     },
     "execution_count": 20,
     "metadata": {},
     "output_type": "execute_result"
    }
   ],
   "source": [
    "# Drop the 'MonthlyIncome' and 'Age' columns from the DataFrame\n",
    "df_num_sorted_reduced = df_num_sorted.drop(columns=['MonthlyIncome', 'Age'])\n",
    "\n",
    "# Calculate the new correlation matrix\n",
    "cor_num_sorted_reduced = df_num_sorted_reduced.corr()\n",
    "\n",
    "cor_num_sorted_reduced.style.background_gradient(cmap='coolwarm')"
   ]
  },
  {
   "cell_type": "markdown",
   "metadata": {},
   "source": [
    "<strong>RESULTL</strong><br>\n",
    "Now, we do not have multicolle risk between the numeric variables."
   ]
  },
  {
   "cell_type": "code",
   "execution_count": null,
   "metadata": {},
   "outputs": [],
   "source": []
  },
  {
   "cell_type": "markdown",
   "metadata": {
    "id": "JpWmMyiTowVq"
   },
   "source": [
    "## - Dummy Variables\n",
    "Converting categorical variables to dummy variables.\n",
    "After dummified variable, we will have only numeric variables in the dataset."
   ]
  },
  {
   "cell_type": "code",
   "execution_count": 21,
   "metadata": {},
   "outputs": [
    {
     "data": {
      "text/plain": [
       "['Department', 'EducationField', 'MaritalStatus']"
      ]
     },
     "execution_count": 21,
     "metadata": {},
     "output_type": "execute_result"
    }
   ],
   "source": [
    "categorical_variables"
   ]
  },
  {
   "cell_type": "code",
   "execution_count": 22,
   "metadata": {},
   "outputs": [
    {
     "data": {
      "text/plain": [
       "Department\n",
       "Research & Development    961\n",
       "Sales                     446\n",
       "Human Resources            63\n",
       "Name: count, dtype: int64"
      ]
     },
     "execution_count": 22,
     "metadata": {},
     "output_type": "execute_result"
    }
   ],
   "source": [
    "df['Department'].value_counts()"
   ]
  },
  {
   "cell_type": "code",
   "execution_count": 23,
   "metadata": {},
   "outputs": [
    {
     "data": {
      "text/plain": [
       "EducationField\n",
       "Life Sciences       606\n",
       "Medical             464\n",
       "Marketing           159\n",
       "Technical Degree    132\n",
       "Other                82\n",
       "Human Resources      27\n",
       "Name: count, dtype: int64"
      ]
     },
     "execution_count": 23,
     "metadata": {},
     "output_type": "execute_result"
    }
   ],
   "source": [
    "df['EducationField'].value_counts()"
   ]
  },
  {
   "cell_type": "code",
   "execution_count": 24,
   "metadata": {},
   "outputs": [
    {
     "data": {
      "text/plain": [
       "MaritalStatus\n",
       "Married     673\n",
       "Single      470\n",
       "Divorced    327\n",
       "Name: count, dtype: int64"
      ]
     },
     "execution_count": 24,
     "metadata": {},
     "output_type": "execute_result"
    }
   ],
   "source": [
    "df['MaritalStatus'].value_counts()"
   ]
  },
  {
   "cell_type": "code",
   "execution_count": 25,
   "metadata": {},
   "outputs": [
    {
     "data": {
      "text/plain": [
       "['Department', 'EducationField', 'MaritalStatus']"
      ]
     },
     "execution_count": 25,
     "metadata": {},
     "output_type": "execute_result"
    }
   ],
   "source": [
    "categorical_variables"
   ]
  },
  {
   "cell_type": "code",
   "execution_count": 26,
   "metadata": {},
   "outputs": [
    {
     "name": "stdout",
     "output_type": "stream",
     "text": [
      "<class 'pandas.core.frame.DataFrame'>\n",
      "RangeIndex: 1470 entries, 0 to 1469\n",
      "Data columns (total 19 columns):\n",
      " #   Column                             Non-Null Count  Dtype\n",
      "---  ------                             --------------  -----\n",
      " 0   Age                                1470 non-null   int64\n",
      " 1   Attrition                          1470 non-null   int64\n",
      " 2   DistanceFromHome                   1470 non-null   int64\n",
      " 3   Education                          1470 non-null   int64\n",
      " 4   EnvironmentSatisfaction            1470 non-null   int64\n",
      " 5   JobSatisfaction                    1470 non-null   int64\n",
      " 6   MonthlyIncome                      1470 non-null   int64\n",
      " 7   NumCompaniesWorked                 1470 non-null   int64\n",
      " 8   WorkLifeBalance                    1470 non-null   int64\n",
      " 9   YearsAtCompany                     1470 non-null   int64\n",
      " 10  Department_Research & Development  1470 non-null   bool \n",
      " 11  Department_Sales                   1470 non-null   bool \n",
      " 12  EducationField_Life Sciences       1470 non-null   bool \n",
      " 13  EducationField_Marketing           1470 non-null   bool \n",
      " 14  EducationField_Medical             1470 non-null   bool \n",
      " 15  EducationField_Other               1470 non-null   bool \n",
      " 16  EducationField_Technical Degree    1470 non-null   bool \n",
      " 17  MaritalStatus_Married              1470 non-null   bool \n",
      " 18  MaritalStatus_Single               1470 non-null   bool \n",
      "dtypes: bool(9), int64(10)\n",
      "memory usage: 127.9 KB\n",
      "None\n"
     ]
    }
   ],
   "source": [
    "# Convert categorical variables into dummy variables\n",
    "df_with_dummies = pd.get_dummies(df, columns=['Department', 'EducationField', 'MaritalStatus'], drop_first=True)\n",
    "\n",
    "# Display the new DataFrame structure\n",
    "print(df_with_dummies.info())"
   ]
  },
  {
   "cell_type": "markdown",
   "metadata": {},
   "source": [
    "## - Data Partition.  "
   ]
  },
  {
   "cell_type": "code",
   "execution_count": 27,
   "metadata": {},
   "outputs": [],
   "source": [
    "from sklearn.model_selection import train_test_split"
   ]
  },
  {
   "cell_type": "code",
   "execution_count": 28,
   "metadata": {},
   "outputs": [
    {
     "data": {
      "text/plain": [
       "Index(['Age', 'Attrition', 'DistanceFromHome', 'Education',\n",
       "       'EnvironmentSatisfaction', 'JobSatisfaction', 'MonthlyIncome',\n",
       "       'NumCompaniesWorked', 'WorkLifeBalance', 'YearsAtCompany',\n",
       "       'Department_Research & Development', 'Department_Sales',\n",
       "       'EducationField_Life Sciences', 'EducationField_Marketing',\n",
       "       'EducationField_Medical', 'EducationField_Other',\n",
       "       'EducationField_Technical Degree', 'MaritalStatus_Married',\n",
       "       'MaritalStatus_Single'],\n",
       "      dtype='object')"
      ]
     },
     "execution_count": 28,
     "metadata": {},
     "output_type": "execute_result"
    }
   ],
   "source": [
    "df_with_dummies.columns"
   ]
  },
  {
   "cell_type": "code",
   "execution_count": 29,
   "metadata": {},
   "outputs": [],
   "source": [
    "X = df_with_dummies[['Age','DistanceFromHome', 'Education',\n",
    "       'EnvironmentSatisfaction', 'JobSatisfaction', 'MonthlyIncome',\n",
    "       'NumCompaniesWorked', 'WorkLifeBalance', 'YearsAtCompany',\n",
    "       'Department_Research & Development', 'Department_Sales',\n",
    "       'EducationField_Life Sciences', 'EducationField_Marketing',\n",
    "       'EducationField_Medical', 'EducationField_Other',\n",
    "       'EducationField_Technical Degree', 'MaritalStatus_Married',\n",
    "       'MaritalStatus_Single']]\n",
    "y = df_with_dummies['Attrition']"
   ]
  },
  {
   "cell_type": "code",
   "execution_count": 30,
   "metadata": {
    "scrolled": true
   },
   "outputs": [
    {
     "name": "stdout",
     "output_type": "stream",
     "text": [
      "(882, 18) (588, 18) <class 'pandas.core.frame.DataFrame'> <class 'pandas.core.frame.DataFrame'>\n",
      "(882,) (588,) <class 'pandas.core.series.Series'> <class 'pandas.core.series.Series'>\n"
     ]
    }
   ],
   "source": [
    "X_train, X_test, y_train, y_test = train_test_split(X,y, test_size = 0.4, random_state = 654 )\n",
    "\n",
    "print(X_train.shape, X_test.shape, type(X_train), type(X_test))\n",
    "print(y_train.shape, y_test.shape, type(y_train), type(y_test))"
   ]
  },
  {
   "cell_type": "code",
   "execution_count": 32,
   "metadata": {},
   "outputs": [
    {
     "name": "stdout",
     "output_type": "stream",
     "text": [
      "Training set percentage: 60.00%\n",
      "Test set percentage: 40.00%\n"
     ]
    }
   ],
   "source": [
    "# Calculate the total number of samples\n",
    "total_samples = X.shape[0]\n",
    "\n",
    "# Calculate percentages\n",
    "train_percentage = (X_train.shape[0] / total_samples) * 100\n",
    "test_percentage = (X_test.shape[0] / total_samples) * 100\n",
    "\n",
    "print(\"Training set percentage: {:.2f}%\".format(train_percentage))\n",
    "print(\"Test set percentage: {:.2f}%\".format(test_percentage))"
   ]
  },
  {
   "cell_type": "markdown",
   "metadata": {},
   "source": [
    "<strong>RESULT:</strong><br>\n",
    "I splitted the data (df_with_dummies) into 60% training and 40% test.<br>\n",
    "\n",
    "Outcome variable: Attrition<br>\n",
    "Inputs: All numeric variables."
   ]
  },
  {
   "cell_type": "code",
   "execution_count": 33,
   "metadata": {},
   "outputs": [
    {
     "name": "stdout",
     "output_type": "stream",
     "text": [
      "Age                                  int64\n",
      "DistanceFromHome                     int64\n",
      "Education                            int64\n",
      "EnvironmentSatisfaction              int64\n",
      "JobSatisfaction                      int64\n",
      "MonthlyIncome                        int64\n",
      "NumCompaniesWorked                   int64\n",
      "WorkLifeBalance                      int64\n",
      "YearsAtCompany                       int64\n",
      "Department_Research & Development     bool\n",
      "Department_Sales                      bool\n",
      "EducationField_Life Sciences          bool\n",
      "EducationField_Marketing              bool\n",
      "EducationField_Medical                bool\n",
      "EducationField_Other                  bool\n",
      "EducationField_Technical Degree       bool\n",
      "MaritalStatus_Married                 bool\n",
      "MaritalStatus_Single                  bool\n",
      "dtype: object\n",
      "int64\n"
     ]
    }
   ],
   "source": [
    "print(X_train.dtypes)\n",
    "print(y_train.dtypes)"
   ]
  },
  {
   "cell_type": "code",
   "execution_count": 34,
   "metadata": {},
   "outputs": [],
   "source": [
    "# Convert boolean columns to integers\n",
    "X_train = X_train.astype(int)\n",
    "X_test = X_test.astype(int)"
   ]
  },
  {
   "cell_type": "code",
   "execution_count": 35,
   "metadata": {},
   "outputs": [
    {
     "name": "stdout",
     "output_type": "stream",
     "text": [
      "Age                                  int64\n",
      "DistanceFromHome                     int64\n",
      "Education                            int64\n",
      "EnvironmentSatisfaction              int64\n",
      "JobSatisfaction                      int64\n",
      "MonthlyIncome                        int64\n",
      "NumCompaniesWorked                   int64\n",
      "WorkLifeBalance                      int64\n",
      "YearsAtCompany                       int64\n",
      "Department_Research & Development    int64\n",
      "Department_Sales                     int64\n",
      "EducationField_Life Sciences         int64\n",
      "EducationField_Marketing             int64\n",
      "EducationField_Medical               int64\n",
      "EducationField_Other                 int64\n",
      "EducationField_Technical Degree      int64\n",
      "MaritalStatus_Married                int64\n",
      "MaritalStatus_Single                 int64\n",
      "dtype: object\n",
      "int64\n"
     ]
    }
   ],
   "source": [
    "print(X_train.dtypes)\n",
    "print(y_train.dtypes)"
   ]
  },
  {
   "cell_type": "markdown",
   "metadata": {},
   "source": [
    "<strong>RESULT:</strong><br>\n",
    "Now, all variables are numeric."
   ]
  },
  {
   "cell_type": "code",
   "execution_count": null,
   "metadata": {},
   "outputs": [],
   "source": []
  },
  {
   "cell_type": "markdown",
   "metadata": {
    "id": "JpWmMyiTowVq"
   },
   "source": [
    "### - Comparing the mean values of the variables in the dataset after grouping by Attrition.  "
   ]
  },
  {
   "cell_type": "code",
   "execution_count": 36,
   "metadata": {},
   "outputs": [
    {
     "name": "stdout",
     "output_type": "stream",
     "text": [
      "Attrition                                    0            1\n",
      "MonthlyIncome                      6832.739659  4787.092827\n",
      "Age                                  37.561233    33.607595\n",
      "DistanceFromHome                      8.915653    10.632911\n",
      "YearsAtCompany                        7.369019     5.130802\n",
      "NumCompaniesWorked                    2.645580     2.940928\n",
      "Education                             2.927007     2.839662\n",
      "WorkLifeBalance                       2.781022     2.658228\n",
      "JobSatisfaction                       2.778589     2.468354\n",
      "EnvironmentSatisfaction               2.771290     2.464135\n",
      "Department_Research & Development     0.671533     0.561181\n",
      "MaritalStatus_Single                  0.283861     0.506329\n",
      "Department_Sales                      0.287105     0.388186\n",
      "EducationField_Life Sciences          0.419303     0.375527\n",
      "MaritalStatus_Married                 0.477697     0.354430\n",
      "EducationField_Medical                0.325223     0.265823\n",
      "EducationField_Marketing              0.100568     0.147679\n",
      "EducationField_Technical Degree       0.081103     0.135021\n",
      "EducationField_Other                  0.057583     0.046414\n"
     ]
    }
   ],
   "source": [
    "grouped_means = df_with_dummies.groupby('Attrition').mean()\n",
    "\n",
    "# Transposing the grouped means DataFrame\n",
    "transposed_means = grouped_means.T\n",
    "\n",
    "# Sorting the transposed means DataFrame in descending order by the 'Attrition' group '1'\n",
    "sorted_transposed_means = transposed_means.sort_values(by=1, ascending=False)\n",
    "\n",
    "# Display the sorted transposed DataFrame\n",
    "print(sorted_transposed_means)"
   ]
  },
  {
   "cell_type": "markdown",
   "metadata": {},
   "source": [
    "<strong>RESULT:</strong><br><br>\n",
    "\n",
    "<strong>1) MonthlyIncome:</strong> This variable shows a noticeable difference in mean values between the groups with Attrition values of 0 and 1 (6832.74 vs. 4787.09).<br>\n",
    "    - Lower monthly income could be a significant factor in why employees might leave (Attrition = 1),it highly affects job satisfaction.<br>\n",
    "    - Those who stay (Attrition = 0) seem to have a higher average income, which could be an indicator of better job satisfaction.<br>\n",
    "    \n",
    "<strong>2) Age:</strong> The average age for employees who stayed with the company ('0') is higher than for those who left ('1').<br>\n",
    "    - This could indicate that younger employees are more prone to change jobs.<br>\n",
    "    - Also, age may interact with other factors that company provide.<br>\n",
    " \n",
    "<strong> We can choose 3 or 4 based on the company and employee agreement.</strong>\n",
    "<strong> 3) DistanceFromHome</strong> The mean DistanceFromHome for employees who have left the company ('1') is higher than for those who have stayed ('0'). \n",
    "        - Note: DistanceFromHome should be subject to individual or department agreements on the job. Because committing also affects employee lifestyle, such as when they are on the road, the monthly money, etc., based on the agreement, we can decide whether it will cause a high or moderate effect in the dataset.\n",
    "    \n",
    "<strong>4) YearsAtCompany</strong> With mean values of 7.36 for employees who stayed (Attrition = 0) and 5.13 for those who left. (Attrition = 1)<br>\n",
    "    - This suggests that employees with longer tenure are less likely to leave, possibly due to higher job satisfaction such as monthlyincome and other factors that company provide.\n",
    "    - Note: YearsAtCompany variable deciding depends on the employee or department agreement. Based on the agreement, we can decide whether it will cause a high or moderate effect in the dataset.\n",
    "    \n",
    "    \n",
    "    \n"
   ]
  },
  {
   "cell_type": "code",
   "execution_count": null,
   "metadata": {},
   "outputs": [],
   "source": []
  },
  {
   "cell_type": "markdown",
   "metadata": {},
   "source": [
    "## Iteration #1"
   ]
  },
  {
   "cell_type": "markdown",
   "metadata": {
    "id": "JpWmMyiTowVq"
   },
   "source": [
    "## Building a logistic regression model using statsmodels, with the outcome variable 'Attrition'.  Using the rest of the remaining variables from the dataset as inputs. \n",
    "\n",
    "<b>NOTE:</b> Using only the training data to build this model. "
   ]
  },
  {
   "cell_type": "code",
   "execution_count": 37,
   "metadata": {},
   "outputs": [
    {
     "name": "stdout",
     "output_type": "stream",
     "text": [
      "Optimization terminated successfully.\n",
      "         Current function value: 0.380642\n",
      "         Iterations 7\n"
     ]
    }
   ],
   "source": [
    "import statsmodels.api as sm\n",
    "\n",
    "logit_model_1 = sm.Logit(y_train, sm.add_constant(X_train))\n",
    "result_1 = logit_model_1.fit()"
   ]
  },
  {
   "cell_type": "markdown",
   "metadata": {},
   "source": [
    "K. Show the summary of your model with `log_reg.summary()`.  (Note:  If you named your model something else, e.g. mymodel, you can just use `mymodel.summary()` here). \n",
    "- a. *Which of your numeric variables here are showing high p-values?*"
   ]
  },
  {
   "cell_type": "code",
   "execution_count": 38,
   "metadata": {},
   "outputs": [
    {
     "name": "stdout",
     "output_type": "stream",
     "text": [
      "                           Logit Regression Results                           \n",
      "==============================================================================\n",
      "Dep. Variable:              Attrition   No. Observations:                  882\n",
      "Model:                          Logit   Df Residuals:                      863\n",
      "Method:                           MLE   Df Model:                           18\n",
      "Date:                Fri, 21 Mar 2025   Pseudo R-squ.:                  0.1301\n",
      "Time:                        23:56:38   Log-Likelihood:                -335.73\n",
      "converged:                       True   LL-Null:                       -385.93\n",
      "Covariance Type:            nonrobust   LLR p-value:                 1.871e-13\n",
      "=====================================================================================================\n",
      "                                        coef    std err          z      P>|z|      [0.025      0.975]\n",
      "-----------------------------------------------------------------------------------------------------\n",
      "const                                 2.0410      0.954      2.140      0.032       0.172       3.910\n",
      "Age                                  -0.0310      0.014     -2.226      0.026      -0.058      -0.004\n",
      "DistanceFromHome                      0.0112      0.012      0.920      0.358      -0.013       0.035\n",
      "Education                            -0.0633      0.100     -0.631      0.528      -0.260       0.134\n",
      "EnvironmentSatisfaction              -0.2583      0.091     -2.827      0.005      -0.437      -0.079\n",
      "JobSatisfaction                      -0.1957      0.090     -2.165      0.030      -0.373      -0.019\n",
      "MonthlyIncome                        -0.0001   3.66e-05     -2.742      0.006      -0.000   -2.86e-05\n",
      "NumCompaniesWorked                    0.1134      0.041      2.789      0.005       0.034       0.193\n",
      "WorkLifeBalance                      -0.2551      0.135     -1.886      0.059      -0.520       0.010\n",
      "YearsAtCompany                       -0.0048      0.024     -0.199      0.842      -0.052       0.042\n",
      "Department_Research & Development     1.0693      1.058      1.011      0.312      -1.004       3.143\n",
      "Department_Sales                      1.7330      1.072      1.616      0.106      -0.368       3.834\n",
      "EducationField_Life Sciences         -2.2858      1.226     -1.865      0.062      -4.688       0.117\n",
      "EducationField_Marketing             -1.9134      1.260     -1.519      0.129      -4.382       0.555\n",
      "EducationField_Medical               -2.4898      1.227     -2.029      0.042      -4.895      -0.084\n",
      "EducationField_Other                 -2.0907      1.263     -1.656      0.098      -4.566       0.384\n",
      "EducationField_Technical Degree      -2.0017      1.258     -1.592      0.111      -4.467       0.463\n",
      "MaritalStatus_Married                 0.2443      0.303      0.806      0.420      -0.350       0.839\n",
      "MaritalStatus_Single                  1.2408      0.296      4.187      0.000       0.660       1.822\n",
      "=====================================================================================================\n"
     ]
    }
   ],
   "source": [
    "summary_1 = result_1.summary()\n",
    "print(summary_1)"
   ]
  },
  {
   "cell_type": "markdown",
   "metadata": {},
   "source": [
    "<strong>RESULT:</strong><br>\n",
    "<b>Pseudo R-squared:</b> Value: 0.1301\n",
    "This indicates that approximately 13.01% of the variability in the dependent variable (Attrition) is explained by the independent variables in the model. While this is not very high, it is not uncommon for logistic regression models.\n",
    "\n",
    "<b>Log-Likelihood:</b> Value: -335.73\n",
    "This measures the fit of the model; higher values (closer to 0) indicate a better fit.\n",
    "\n",
    "<b>LLR p-value:</b> Value: 1.871e-13\n",
    "This is the likelihood ratio test for the overall model. A very small p-value indicates that the model as a whole is statistically significant.\n",
    "\n",
    "\n",
    "<b>Significant Variables (P < 0.05):</b>\n",
    "These variables have a statistically significant impact on attrition:\n",
    "\n",
    "<b>Age:</b>\n",
    "\n",
    "Coefficient: -0.0310\n",
    "P-value: 0.026\n",
    "Interpretation: Older employees are less likely to leave the company.\n",
    "\n",
    "<b>EnvironmentSatisfaction:</b>\n",
    "\n",
    "Coefficient: -0.2583\n",
    "P-value: 0.005\n",
    "Interpretation: Employees with higher satisfaction with their work environment are less likely to leave.\n",
    "\n",
    "<b>JobSatisfaction:</b>\n",
    "\n",
    "Coefficient: -0.1957\n",
    "P-value: 0.030\n",
    "Interpretation: Employees with higher job satisfaction are less likely to leave.\n",
    "\n",
    "<b>MonthlyIncome:</b>\n",
    "\n",
    "Coefficient: -0.0001\n",
    "P-value: 0.006\n",
    "Interpretation: Higher monthly income reduces the likelihood of attrition.\n",
    "\n",
    "<b>NumCompaniesWorked:</b>\n",
    "\n",
    "Coefficient: 0.1134\n",
    "P-value: 0.005\n",
    "Interpretation: Employees who have worked for more companies in the past are more likely to leave.\n",
    "\n",
    "<b>EducationField_Medical:</b>\n",
    "\n",
    "Coefficient: -2.4898\n",
    "P-value: 0.042\n",
    "Interpretation: Employees in the medical education field are less likely to leave.\n",
    "\n",
    "<b>MaritalStatus_Single:</b>\n",
    "\n",
    "Coefficient: 1.2408\n",
    "P-value: 0.000\n",
    "Interpretation: Single employees are more likely to leave compared to others.\n",
    "\n",
    "<b>Notable Non-Significant Variables (P > 0.05):</b>\n",
    "These variables do not show a statistically significant impact on attrition:<br>\n",
    "\n",
    "<b>DistanceFromHome (P = 0.358):</b> The distance an employee lives from their workplace does not significantly affect attrition.<br>\n",
    "<b>Education (P = 0.528):</b> The level of education does not significantly predict attrition.<br>\n",
    "<b>YearsAtCompany (P = 0.842):</b> The number of years an employee has been at the company does not significantly impact attrition.<br>\n",
    "<b>Department_Research & Development (P = 0.312):</b> Working in the R&D department does not significantly affect attrition.<br>\n",
    "<b>Department_Sales (P = 0.106):</b> Working in the sales department does not significantly affect attrition.\n"
   ]
  },
  {
   "cell_type": "code",
   "execution_count": null,
   "metadata": {},
   "outputs": [],
   "source": []
  },
  {
   "cell_type": "markdown",
   "metadata": {
    "id": "JpWmMyiTowVq"
   },
   "source": [
    "## Iteration #2 "
   ]
  },
  {
   "cell_type": "markdown",
   "metadata": {},
   "source": [
    "## - Building  another model.  Again using **statsmodels,** and again, using training set only.  Starting with the variables you used in Iteration #1 but dropping the ones identified in the previous step."
   ]
  },
  {
   "cell_type": "code",
   "execution_count": 39,
   "metadata": {},
   "outputs": [
    {
     "data": {
      "text/plain": [
       "Index(['Age', 'Attrition', 'DistanceFromHome', 'Education',\n",
       "       'EnvironmentSatisfaction', 'JobSatisfaction', 'MonthlyIncome',\n",
       "       'NumCompaniesWorked', 'WorkLifeBalance', 'YearsAtCompany',\n",
       "       'Department_Research & Development', 'Department_Sales',\n",
       "       'EducationField_Life Sciences', 'EducationField_Marketing',\n",
       "       'EducationField_Medical', 'EducationField_Other',\n",
       "       'EducationField_Technical Degree', 'MaritalStatus_Single'],\n",
       "      dtype='object')"
      ]
     },
     "execution_count": 39,
     "metadata": {},
     "output_type": "execute_result"
    }
   ],
   "source": [
    "new_df = df_with_dummies.drop('MaritalStatus_Married', axis=1).copy()\n",
    "new_df.columns"
   ]
  },
  {
   "cell_type": "code",
   "execution_count": 40,
   "metadata": {},
   "outputs": [
    {
     "name": "stdout",
     "output_type": "stream",
     "text": [
      "(882, 17) (588, 17) <class 'pandas.core.frame.DataFrame'> <class 'pandas.core.frame.DataFrame'>\n",
      "(882,) (588,) <class 'pandas.core.series.Series'> <class 'pandas.core.series.Series'>\n"
     ]
    }
   ],
   "source": [
    "X = new_df[['Age', 'DistanceFromHome', 'Education',\n",
    "       'EnvironmentSatisfaction', 'JobSatisfaction', 'MonthlyIncome',\n",
    "       'NumCompaniesWorked', 'WorkLifeBalance', 'YearsAtCompany',\n",
    "       'Department_Research & Development', 'Department_Sales',\n",
    "       'EducationField_Life Sciences', 'EducationField_Marketing',\n",
    "       'EducationField_Medical', 'EducationField_Other',\n",
    "       'EducationField_Technical Degree', 'MaritalStatus_Single']]\n",
    "\n",
    "y = new_df['Attrition']\n",
    "\n",
    "X_train, X_test, y_train, y_test = train_test_split(X,y, test_size = 0.4, random_state = 654 )\n",
    "\n",
    "print(X_train.shape, X_test.shape, type(X_train), type(X_test))\n",
    "print(y_train.shape, y_test.shape, type(y_train), type(y_test))\n"
   ]
  },
  {
   "cell_type": "code",
   "execution_count": 41,
   "metadata": {},
   "outputs": [
    {
     "name": "stdout",
     "output_type": "stream",
     "text": [
      "Age                                  int64\n",
      "DistanceFromHome                     int64\n",
      "Education                            int64\n",
      "EnvironmentSatisfaction              int64\n",
      "JobSatisfaction                      int64\n",
      "MonthlyIncome                        int64\n",
      "NumCompaniesWorked                   int64\n",
      "WorkLifeBalance                      int64\n",
      "YearsAtCompany                       int64\n",
      "Department_Research & Development     bool\n",
      "Department_Sales                      bool\n",
      "EducationField_Life Sciences          bool\n",
      "EducationField_Marketing              bool\n",
      "EducationField_Medical                bool\n",
      "EducationField_Other                  bool\n",
      "EducationField_Technical Degree       bool\n",
      "MaritalStatus_Single                  bool\n",
      "dtype: object\n",
      "int64\n"
     ]
    }
   ],
   "source": [
    "print(X_train.dtypes)\n",
    "print(y_train.dtypes)"
   ]
  },
  {
   "cell_type": "code",
   "execution_count": 42,
   "metadata": {},
   "outputs": [],
   "source": [
    "# Convert boolean columns to integers\n",
    "X_train = X_train.astype(int)\n",
    "X_test = X_test.astype(int)"
   ]
  },
  {
   "cell_type": "code",
   "execution_count": 43,
   "metadata": {},
   "outputs": [
    {
     "name": "stdout",
     "output_type": "stream",
     "text": [
      "Age                                  int64\n",
      "DistanceFromHome                     int64\n",
      "Education                            int64\n",
      "EnvironmentSatisfaction              int64\n",
      "JobSatisfaction                      int64\n",
      "MonthlyIncome                        int64\n",
      "NumCompaniesWorked                   int64\n",
      "WorkLifeBalance                      int64\n",
      "YearsAtCompany                       int64\n",
      "Department_Research & Development    int64\n",
      "Department_Sales                     int64\n",
      "EducationField_Life Sciences         int64\n",
      "EducationField_Marketing             int64\n",
      "EducationField_Medical               int64\n",
      "EducationField_Other                 int64\n",
      "EducationField_Technical Degree      int64\n",
      "MaritalStatus_Single                 int64\n",
      "dtype: object\n",
      "int64\n"
     ]
    }
   ],
   "source": [
    "print(X_train.dtypes)\n",
    "print(y_train.dtypes)"
   ]
  },
  {
   "cell_type": "code",
   "execution_count": 44,
   "metadata": {},
   "outputs": [
    {
     "name": "stdout",
     "output_type": "stream",
     "text": [
      "Optimization terminated successfully.\n",
      "         Current function value: 0.381019\n",
      "         Iterations 7\n",
      "                           Logit Regression Results                           \n",
      "==============================================================================\n",
      "Dep. Variable:              Attrition   No. Observations:                  882\n",
      "Model:                          Logit   Df Residuals:                      864\n",
      "Method:                           MLE   Df Model:                           17\n",
      "Date:                Sat, 22 Mar 2025   Pseudo R-squ.:                  0.1292\n",
      "Time:                        00:03:21   Log-Likelihood:                -336.06\n",
      "converged:                       True   LL-Null:                       -385.93\n",
      "Covariance Type:            nonrobust   LLR p-value:                 9.962e-14\n",
      "=====================================================================================================\n",
      "                                        coef    std err          z      P>|z|      [0.025      0.975]\n",
      "-----------------------------------------------------------------------------------------------------\n",
      "const                                 2.2516      0.917      2.455      0.014       0.454       4.049\n",
      "Age                                  -0.0307      0.014     -2.209      0.027      -0.058      -0.003\n",
      "DistanceFromHome                      0.0113      0.012      0.930      0.352      -0.013       0.035\n",
      "Education                            -0.0638      0.100     -0.635      0.525      -0.261       0.133\n",
      "EnvironmentSatisfaction              -0.2614      0.091     -2.868      0.004      -0.440      -0.083\n",
      "JobSatisfaction                      -0.1978      0.090     -2.190      0.029      -0.375      -0.021\n",
      "MonthlyIncome                     -9.958e-05   3.66e-05     -2.724      0.006      -0.000   -2.79e-05\n",
      "NumCompaniesWorked                    0.1115      0.041      2.749      0.006       0.032       0.191\n",
      "WorkLifeBalance                      -0.2518      0.135     -1.865      0.062      -0.516       0.013\n",
      "YearsAtCompany                       -0.0053      0.024     -0.220      0.826      -0.052       0.042\n",
      "Department_Research & Development     1.0776      1.057      1.019      0.308      -0.994       3.150\n",
      "Department_Sales                      1.7394      1.072      1.623      0.105      -0.361       3.840\n",
      "EducationField_Life Sciences         -2.3339      1.224     -1.907      0.056      -4.732       0.065\n",
      "EducationField_Marketing             -1.9663      1.257     -1.564      0.118      -4.431       0.498\n",
      "EducationField_Medical               -2.5389      1.226     -2.071      0.038      -4.941      -0.137\n",
      "EducationField_Other                 -2.1354      1.260     -1.694      0.090      -4.605       0.335\n",
      "EducationField_Technical Degree      -2.0475      1.256     -1.631      0.103      -4.509       0.413\n",
      "MaritalStatus_Single                  1.0717      0.203      5.266      0.000       0.673       1.471\n",
      "=====================================================================================================\n"
     ]
    }
   ],
   "source": [
    "logit_model_2 = sm.Logit(y_train, sm.add_constant(X_train))\n",
    "result_2 = logit_model_2.fit()\n",
    "\n",
    "summary_2 = result_2.summary()\n",
    "print(summary_2)"
   ]
  },
  {
   "cell_type": "markdown",
   "metadata": {},
   "source": [
    "<strong>Model 2 RESULT:</strong><br><br>\n",
    "\n",
    "<b>Pseudo R-squared: 0.1292</b>\n",
    "\n",
    "Indicates that about 12.92% of the variation in attrition is explained by the model's predictors. This is reasonable for logistic regression models but suggests there may be other factors not included in the model.\n",
    "\n",
    "<b>Log-Likelihood: -336.06</b>\n",
    "\n",
    "A measure of model fit; higher (less negative) values indicate a better fit.\n",
    "\n",
    "<b>LLR p-value: 9.962e-14</b>\n",
    "\n",
    "The likelihood ratio test for the overall model is highly significant, meaning the model as a whole fits the data well.\n",
    "\n",
    "<b>Significant Variables (P < 0.05):</b>\n",
    "These variables have a statistically significant impact on attrition:\n",
    "\n",
    "<b>Age:</b>\n",
    "\n",
    "Coefficient: -0.0307\n",
    "P-value: 0.027\n",
    "Interpretation: Older employees are less likely to leave the company. Each additional year of age reduces the log-odds of attrition by 0.0307.\n",
    "\n",
    "<b>EnvironmentSatisfaction:</b>\n",
    "\n",
    "Coefficient: -0.2614\n",
    "P-value: 0.004\n",
    "Interpretation: Higher satisfaction with the work environment reduces the likelihood of attrition.\n",
    "\n",
    "<b>JobSatisfaction:</b>\n",
    "\n",
    "Coefficient: -0.1978\n",
    "P-value: 0.029\n",
    "Interpretation: Employees with higher job satisfaction are less likely to leave.\n",
    "\n",
    "<b>MonthlyIncome:</b>\n",
    "\n",
    "Coefficient: -9.958e-05\n",
    "P-value: 0.006\n",
    "Interpretation: Higher monthly income reduces the likelihood of attrition, though the effect size is small.\n",
    "\n",
    "<b>NumCompaniesWorked:</b>\n",
    "\n",
    "Coefficient: 0.1115\n",
    "P-value: 0.006\n",
    "Interpretation: Employees who have worked at more companies in the past are more likely to leave.\n",
    "\n",
    "<b>EducationField_Medical:</b>\n",
    "\n",
    "Coefficient: -2.5389\n",
    "P-value: 0.038\n",
    "Interpretation: Employees in the medical education field are significantly less likely to leave.\n",
    "\n",
    "<b>MaritalStatus_Single:</b>\n",
    "\n",
    "Coefficient: 1.0717\n",
    "P-value: 0.000\n",
    "Interpretation: Single employees are significantly more likely to leave compared to married employees (reference group).\n",
    "\n",
    "<b>Non-Significant Variables (P > 0.05):</b>\n",
    "These variables do not have a statistically significant impact on attrition:\n",
    "\n",
    "<b>DistanceFromHome (P = 0.352):</b> Distance from home does not significantly affect attrition.<br>\n",
    "<b>Education (P = 0.525):</b> Education level does not significantly predict attrition.<br>\n",
    "<b>WorkLifeBalance (P = 0.062):</b> While close to significance, it does not have a strong enough effect.<br>\n",
    "<b>YearsAtCompany (P = 0.826):</b> The number of years at the company does not significantly influence attrition.<br>\n",
    "<b>Department_Research & Development (P = 0.308):</b> Working in R&D does not significantly affect attrition.<br>\n",
    "<b>Department_Sales (P = 0.105):</b> Working in the sales department does not significantly affect attrition.<br>\n",
    "<b>EducationField_Life Sciences (P = 0.056):</b> Close to significance but not strong enough.<br>\n",
    "<b>EducationField_Marketing (P = 0.118):</b> Not significant.<br>\n",
    "<b>EducationField_Other (P = 0.090):</b> Not significant.<br>\n",
    "<b>EducationField_Technical Degree (P = 0.103):</b> Not significant.\n",
    "\n",
    "\n"
   ]
  },
  {
   "cell_type": "code",
   "execution_count": null,
   "metadata": {},
   "outputs": [],
   "source": []
  },
  {
   "cell_type": "markdown",
   "metadata": {
    "id": "JpWmMyiTowVq"
   },
   "source": [
    "## - Using scikit-learn, building another version of the model, using the remaining variables. "
   ]
  },
  {
   "cell_type": "code",
   "execution_count": 46,
   "metadata": {},
   "outputs": [
    {
     "data": {
      "text/plain": [
       "Index(['Age', 'Attrition', 'DistanceFromHome', 'Education',\n",
       "       'EnvironmentSatisfaction', 'JobSatisfaction', 'MonthlyIncome',\n",
       "       'NumCompaniesWorked', 'WorkLifeBalance', 'YearsAtCompany',\n",
       "       'Department_Sales', 'EducationField_Life Sciences',\n",
       "       'EducationField_Marketing', 'EducationField_Medical',\n",
       "       'EducationField_Other', 'EducationField_Technical Degree',\n",
       "       'MaritalStatus_Married', 'MaritalStatus_Single'],\n",
       "      dtype='object')"
      ]
     },
     "execution_count": 46,
     "metadata": {},
     "output_type": "execute_result"
    }
   ],
   "source": [
    "new_df_2 = df_with_dummies.drop('Department_Research & Development', axis=1).copy()\n",
    "new_df_2.columns"
   ]
  },
  {
   "cell_type": "code",
   "execution_count": 47,
   "metadata": {},
   "outputs": [
    {
     "name": "stdout",
     "output_type": "stream",
     "text": [
      "Accuracy: 0.8418367346938775\n",
      "              precision    recall  f1-score   support\n",
      "\n",
      "           0       0.84      0.99      0.91       491\n",
      "           1       0.70      0.07      0.13        97\n",
      "\n",
      "    accuracy                           0.84       588\n",
      "   macro avg       0.77      0.53      0.52       588\n",
      "weighted avg       0.82      0.84      0.78       588\n",
      "\n"
     ]
    }
   ],
   "source": [
    "from sklearn.model_selection import train_test_split\n",
    "from sklearn.linear_model import LogisticRegression\n",
    "from sklearn.metrics import accuracy_score, classification_report\n",
    "\n",
    "feature_columns = [\n",
    "    'Age', 'DistanceFromHome', 'Education', 'EnvironmentSatisfaction', 'JobSatisfaction',\n",
    "    'MonthlyIncome', 'NumCompaniesWorked', 'WorkLifeBalance', 'YearsAtCompany',\n",
    "    'Department_Sales', 'EducationField_Life Sciences', 'EducationField_Marketing',\n",
    "    'EducationField_Medical', 'EducationField_Other', 'EducationField_Technical Degree',\n",
    "    'MaritalStatus_Single'\n",
    "]\n",
    "\n",
    "X = new_df_2[feature_columns]  \n",
    "y = new_df_2['Attrition'] \n",
    "\n",
    "# Step 3: Split the data into training and test sets\n",
    "X_train, X_test, y_train, y_test = train_test_split(X, y, test_size=0.4, random_state=654)\n",
    "\n",
    "# Step 4: Create a logistic regression model instance\n",
    "logistic_model = LogisticRegression(max_iter=1000)  # Increase max_iter if convergence issues arise\n",
    "\n",
    "# Step 5: Train the model with the training data\n",
    "logistic_model.fit(X_train, y_train)\n",
    "\n",
    "# Step 6: Make predictions using the test data\n",
    "y_pred = logistic_model.predict(X_test)\n",
    "\n",
    "# Step 7: Evaluate the model's performance\n",
    "accuracy = accuracy_score(y_test, y_pred)\n",
    "print(f\"Accuracy: {accuracy}\")\n",
    "print(classification_report(y_test, y_pred))\n"
   ]
  },
  {
   "cell_type": "markdown",
   "metadata": {},
   "source": [
    "<strong>RESULT:</strong><br><br>\n",
    "<b>1. Accuracy: 84.18%</b>\n",
    "This suggests that the model correctly predicts 84.18% of the cases overall. However, accuracy can be misleading in imbalanced datasets (as is the case here).<br>\n",
    "<b>2. Class-wise Performance:</b>\n",
    "\n",
    "* Class 0 (Non-Attrition):*<br>\n",
    "Precision: 0.84 Of all the predicted non-attrition cases, 84% were correct.<br>\n",
    "Recall: 0.99 The model captures 99% of the actual non-attrition cases.<br>\n",
    "F1-Score: 0.91 A high F1-score indicates strong performance for this class.<br>\n",
    "\n",
    "* Class 1 (Attrition):*<br>\n",
    "Precision: 0.70 Of all the predicted attrition cases, only 70% were correct.<br>\n",
    "Recall: 0.07 The model only identifies 7% of the actual attrition cases, which is very poor.<br>\n",
    "F1-Score: 0.13 The low F1-score indicates that the model struggles to balance precision and recall for this class.<br>\n",
    "\n",
    "<b>3. Macro Average:</b>\n",
    "Precision: 0.77, Recall: 0.53, F1-Score: 0.52<br>\n",
    "These averages treat both classes equally, highlighting the imbalance in performance between the two classes.<br>\n",
    "\n",
    "<b>4. Weighted Average:</b>\n",
    "Precision: 0.82, Recall: 0.84, F1-Score: 0.78<br>\n",
    "These averages account for the support (number of samples) in each class, favoring the majority class (0).\n",
    "\n",
    "<b>Imbalance Issue:</b>\n",
    "\n",
    "The dataset is highly imbalanced, with 491 samples of class 0 (non-attrition) and only 97 samples of class 1 (attrition). This imbalance causes the model to perform well on the majority class but poorly on the minority class.<br>\n",
    "\n",
    "<b>Poor Recall for Class 1:</b>\n",
    "\n",
    "A recall of 0.07 for class 1 indicates that the model fails to identify most cases of attrition. This is critical because identifying attrition cases is likely the primary goal.\n"
   ]
  },
  {
   "cell_type": "markdown",
   "metadata": {},
   "source": [
    "## - Confusion Matrix"
   ]
  },
  {
   "cell_type": "code",
   "execution_count": 48,
   "metadata": {},
   "outputs": [
    {
     "name": "stdout",
     "output_type": "stream",
     "text": [
      "[[488   3]\n",
      " [ 90   7]]\n",
      "Accuracy Rate: 0.84\n"
     ]
    }
   ],
   "source": [
    "from sklearn.metrics import confusion_matrix\n",
    "\n",
    "# Calculate the confusion matrix\n",
    "conf_matrix = confusion_matrix(y_test, y_pred)\n",
    "print(conf_matrix)\n",
    "\n",
    "accuracy = accuracy_score(y_test, y_pred)\n",
    "\n",
    "print(f\"Accuracy Rate: {accuracy:.2f}\")"
   ]
  },
  {
   "cell_type": "code",
   "execution_count": 49,
   "metadata": {},
   "outputs": [],
   "source": [
    "# Assigning values from the confusion matrix to variables for better readability\n",
    "TN, FP, FN, TP = conf_matrix.ravel()"
   ]
  },
  {
   "cell_type": "markdown",
   "metadata": {},
   "source": [
    "## - The Model's Sensitivity Rate"
   ]
  },
  {
   "cell_type": "code",
   "execution_count": 50,
   "metadata": {},
   "outputs": [
    {
     "name": "stdout",
     "output_type": "stream",
     "text": [
      "Sensitivity/Recall: 0.07\n"
     ]
    }
   ],
   "source": [
    "# Calculate the Sensitivity, Recall, or True Positive Rate (TPR)\n",
    "sensitivity = TP / (TP + FN)\n",
    "\n",
    "print(f\"Sensitivity/Recall: {sensitivity:.2f}\")"
   ]
  },
  {
   "cell_type": "markdown",
   "metadata": {},
   "source": [
    "### - The Model's Specificity Rate?*"
   ]
  },
  {
   "cell_type": "code",
   "execution_count": 51,
   "metadata": {},
   "outputs": [
    {
     "name": "stdout",
     "output_type": "stream",
     "text": [
      "Specificity: 0.99\n"
     ]
    }
   ],
   "source": [
    "# Calculate the Specificity, Selectivity or True Negative Rate (TNR)\n",
    "specificity = TN / (TN + FP)\n",
    "\n",
    "print(f\"Specificity: {specificity:.2f}\")"
   ]
  },
  {
   "cell_type": "markdown",
   "metadata": {},
   "source": [
    "### - The Model's Precision (Positive Predictive Value (PPV))*"
   ]
  },
  {
   "cell_type": "code",
   "execution_count": 52,
   "metadata": {},
   "outputs": [
    {
     "name": "stdout",
     "output_type": "stream",
     "text": [
      "Precision: 0.70\n"
     ]
    }
   ],
   "source": [
    "# Calculate Precision or Positive Predictive Value (PPV)\n",
    "precision = TP / (TP + FP)\n",
    "\n",
    "print(f\"Precision: {precision:.2f}\")"
   ]
  },
  {
   "cell_type": "markdown",
   "metadata": {},
   "source": [
    "### - The Model's Balanced Accuracy?*"
   ]
  },
  {
   "cell_type": "code",
   "execution_count": 53,
   "metadata": {},
   "outputs": [
    {
     "name": "stdout",
     "output_type": "stream",
     "text": [
      "Balanced Accuracy: 0.53\n"
     ]
    }
   ],
   "source": [
    "from sklearn.metrics import balanced_accuracy_score\n",
    "\n",
    "# Assuming y_test and y_pred are already defined as they were from your model's predictions\n",
    "balanced_accuracy = balanced_accuracy_score(y_test, y_pred)\n",
    "\n",
    "print(f\"Balanced Accuracy: {balanced_accuracy:.2f}\")"
   ]
  },
  {
   "cell_type": "markdown",
   "metadata": {},
   "source": [
    "### - Balanced Accuracy Percentage"
   ]
  },
  {
   "cell_type": "code",
   "execution_count": 54,
   "metadata": {},
   "outputs": [
    {
     "name": "stdout",
     "output_type": "stream",
     "text": [
      "Balanced Accuracy Percentage: 53.30%\n"
     ]
    }
   ],
   "source": [
    "print(f\"Balanced Accuracy Percentage: {balanced_accuracy * 100:.2f}%\")"
   ]
  },
  {
   "cell_type": "markdown",
   "metadata": {
    "id": "JpWmMyiTowVq"
   },
   "source": [
    "### - Comparing the model's accuracy against the training set vs. the test set."
   ]
  },
  {
   "cell_type": "code",
   "execution_count": 55,
   "metadata": {},
   "outputs": [],
   "source": [
    "# Assuming 'model' is your trained model\n",
    "y_train_pred = logistic_model.predict(X_train)  # Predictions on training set\n",
    "\n",
    "y_test_pred = logistic_model.predict(X_test)    # Predictions on test set\n"
   ]
  },
  {
   "cell_type": "code",
   "execution_count": 56,
   "metadata": {},
   "outputs": [
    {
     "name": "stdout",
     "output_type": "stream",
     "text": [
      "Training Set Accuracy: 85.03%\n",
      "Test Set Accuracy: 84.18%\n",
      "The model performs better on the training set than on the test set.\n"
     ]
    }
   ],
   "source": [
    "# Calculate accuracy on the training set\n",
    "training_accuracy = accuracy_score(y_train, y_train_pred)\n",
    "print(f\"Training Set Accuracy: {training_accuracy * 100:.2f}%\")\n",
    "\n",
    "# Calculate accuracy on the test set\n",
    "test_accuracy = accuracy_score(y_test, y_test_pred)\n",
    "print(f\"Test Set Accuracy: {test_accuracy * 100:.2f}%\")\n",
    "\n",
    "# Comparing accuracies\n",
    "if training_accuracy > test_accuracy:\n",
    "    print(\"The model performs better on the training set than on the test set.\")\n",
    "elif training_accuracy < test_accuracy:\n",
    "    print(\"The model performs better on the test set than on the training set.\")\n",
    "else:\n",
    "    print(\"The model performs equally on both the training and test sets.\")"
   ]
  },
  {
   "cell_type": "markdown",
   "metadata": {},
   "source": [
    "<strong>RESULT:</strong><br>\n",
    "- The training dataset is used to teach the model. \n",
    "- So, we can determine how well the model is learning.\n",
    "    - A high accuracy on the training data indicates that the model has effectively captured the relationships and patterns in the data it was trained on.\n",
    "- Also, it helps us identify overfitting or underfitting issue."
   ]
  },
  {
   "cell_type": "markdown",
   "metadata": {},
   "source": [
    "<strong>RESULT:</strong><br>\n",
    "My model condition is: training_accuracy > test_accuracy:<br>\n",
    "\n",
    "- Training Set Accuracy: My model 85.03% predicted correctly the attrition.\n",
    "\n",
    "- Test Set Accuracy: My model 84.18% predicted correctly the attrition.\n",
    "\n",
    "  - Training accuracy is slightly higher than the test accuracy.\n",
    "  - It is very common and generally expected because models tend to perform better on data they have seen before. \n",
    "  - Also, higher accuracy on training set will likely cause small overfitting. "
   ]
  },
  {
   "cell_type": "markdown",
   "metadata": {},
   "source": [
    "### - Making up an employee.  Assigning this customer a value for each predictor variable in this model, and store the results in a new dataframe and putting the employee through this model.  "
   ]
  },
  {
   "cell_type": "code",
   "execution_count": 57,
   "metadata": {},
   "outputs": [
    {
     "data": {
      "text/plain": [
       "['Age',\n",
       " 'DistanceFromHome',\n",
       " 'Education',\n",
       " 'EnvironmentSatisfaction',\n",
       " 'JobSatisfaction',\n",
       " 'MonthlyIncome',\n",
       " 'NumCompaniesWorked',\n",
       " 'WorkLifeBalance',\n",
       " 'YearsAtCompany',\n",
       " 'Department_Sales',\n",
       " 'EducationField_Life Sciences',\n",
       " 'EducationField_Marketing',\n",
       " 'EducationField_Medical',\n",
       " 'EducationField_Other',\n",
       " 'EducationField_Technical Degree',\n",
       " 'MaritalStatus_Single']"
      ]
     },
     "execution_count": 57,
     "metadata": {},
     "output_type": "execute_result"
    }
   ],
   "source": [
    "feature_columns"
   ]
  },
  {
   "cell_type": "code",
   "execution_count": 58,
   "metadata": {},
   "outputs": [
    {
     "data": {
      "text/html": [
       "<div>\n",
       "<style scoped>\n",
       "    .dataframe tbody tr th:only-of-type {\n",
       "        vertical-align: middle;\n",
       "    }\n",
       "\n",
       "    .dataframe tbody tr th {\n",
       "        vertical-align: top;\n",
       "    }\n",
       "\n",
       "    .dataframe thead th {\n",
       "        text-align: right;\n",
       "    }\n",
       "</style>\n",
       "<table border=\"1\" class=\"dataframe\">\n",
       "  <thead>\n",
       "    <tr style=\"text-align: right;\">\n",
       "      <th></th>\n",
       "      <th>Age</th>\n",
       "      <th>Attrition</th>\n",
       "      <th>DistanceFromHome</th>\n",
       "      <th>Education</th>\n",
       "      <th>EnvironmentSatisfaction</th>\n",
       "      <th>JobSatisfaction</th>\n",
       "      <th>MonthlyIncome</th>\n",
       "      <th>NumCompaniesWorked</th>\n",
       "      <th>WorkLifeBalance</th>\n",
       "      <th>YearsAtCompany</th>\n",
       "      <th>Department_Research &amp; Development</th>\n",
       "      <th>Department_Sales</th>\n",
       "      <th>EducationField_Life Sciences</th>\n",
       "      <th>EducationField_Marketing</th>\n",
       "      <th>EducationField_Medical</th>\n",
       "      <th>EducationField_Other</th>\n",
       "      <th>EducationField_Technical Degree</th>\n",
       "      <th>MaritalStatus_Married</th>\n",
       "      <th>MaritalStatus_Single</th>\n",
       "    </tr>\n",
       "  </thead>\n",
       "  <tbody>\n",
       "    <tr>\n",
       "      <th>0</th>\n",
       "      <td>41</td>\n",
       "      <td>1</td>\n",
       "      <td>1</td>\n",
       "      <td>2</td>\n",
       "      <td>2</td>\n",
       "      <td>4</td>\n",
       "      <td>5993</td>\n",
       "      <td>8</td>\n",
       "      <td>1</td>\n",
       "      <td>6</td>\n",
       "      <td>False</td>\n",
       "      <td>True</td>\n",
       "      <td>True</td>\n",
       "      <td>False</td>\n",
       "      <td>False</td>\n",
       "      <td>False</td>\n",
       "      <td>False</td>\n",
       "      <td>False</td>\n",
       "      <td>True</td>\n",
       "    </tr>\n",
       "    <tr>\n",
       "      <th>1</th>\n",
       "      <td>49</td>\n",
       "      <td>0</td>\n",
       "      <td>8</td>\n",
       "      <td>1</td>\n",
       "      <td>3</td>\n",
       "      <td>2</td>\n",
       "      <td>5130</td>\n",
       "      <td>1</td>\n",
       "      <td>3</td>\n",
       "      <td>10</td>\n",
       "      <td>True</td>\n",
       "      <td>False</td>\n",
       "      <td>True</td>\n",
       "      <td>False</td>\n",
       "      <td>False</td>\n",
       "      <td>False</td>\n",
       "      <td>False</td>\n",
       "      <td>True</td>\n",
       "      <td>False</td>\n",
       "    </tr>\n",
       "    <tr>\n",
       "      <th>2</th>\n",
       "      <td>37</td>\n",
       "      <td>1</td>\n",
       "      <td>2</td>\n",
       "      <td>2</td>\n",
       "      <td>4</td>\n",
       "      <td>3</td>\n",
       "      <td>2090</td>\n",
       "      <td>6</td>\n",
       "      <td>3</td>\n",
       "      <td>0</td>\n",
       "      <td>True</td>\n",
       "      <td>False</td>\n",
       "      <td>False</td>\n",
       "      <td>False</td>\n",
       "      <td>False</td>\n",
       "      <td>True</td>\n",
       "      <td>False</td>\n",
       "      <td>False</td>\n",
       "      <td>True</td>\n",
       "    </tr>\n",
       "    <tr>\n",
       "      <th>3</th>\n",
       "      <td>33</td>\n",
       "      <td>0</td>\n",
       "      <td>3</td>\n",
       "      <td>4</td>\n",
       "      <td>4</td>\n",
       "      <td>3</td>\n",
       "      <td>2909</td>\n",
       "      <td>1</td>\n",
       "      <td>3</td>\n",
       "      <td>8</td>\n",
       "      <td>True</td>\n",
       "      <td>False</td>\n",
       "      <td>True</td>\n",
       "      <td>False</td>\n",
       "      <td>False</td>\n",
       "      <td>False</td>\n",
       "      <td>False</td>\n",
       "      <td>True</td>\n",
       "      <td>False</td>\n",
       "    </tr>\n",
       "    <tr>\n",
       "      <th>4</th>\n",
       "      <td>27</td>\n",
       "      <td>0</td>\n",
       "      <td>2</td>\n",
       "      <td>1</td>\n",
       "      <td>1</td>\n",
       "      <td>2</td>\n",
       "      <td>3468</td>\n",
       "      <td>9</td>\n",
       "      <td>3</td>\n",
       "      <td>2</td>\n",
       "      <td>True</td>\n",
       "      <td>False</td>\n",
       "      <td>False</td>\n",
       "      <td>False</td>\n",
       "      <td>True</td>\n",
       "      <td>False</td>\n",
       "      <td>False</td>\n",
       "      <td>True</td>\n",
       "      <td>False</td>\n",
       "    </tr>\n",
       "    <tr>\n",
       "      <th>...</th>\n",
       "      <td>...</td>\n",
       "      <td>...</td>\n",
       "      <td>...</td>\n",
       "      <td>...</td>\n",
       "      <td>...</td>\n",
       "      <td>...</td>\n",
       "      <td>...</td>\n",
       "      <td>...</td>\n",
       "      <td>...</td>\n",
       "      <td>...</td>\n",
       "      <td>...</td>\n",
       "      <td>...</td>\n",
       "      <td>...</td>\n",
       "      <td>...</td>\n",
       "      <td>...</td>\n",
       "      <td>...</td>\n",
       "      <td>...</td>\n",
       "      <td>...</td>\n",
       "      <td>...</td>\n",
       "    </tr>\n",
       "    <tr>\n",
       "      <th>1465</th>\n",
       "      <td>36</td>\n",
       "      <td>0</td>\n",
       "      <td>23</td>\n",
       "      <td>2</td>\n",
       "      <td>3</td>\n",
       "      <td>4</td>\n",
       "      <td>2571</td>\n",
       "      <td>4</td>\n",
       "      <td>3</td>\n",
       "      <td>5</td>\n",
       "      <td>True</td>\n",
       "      <td>False</td>\n",
       "      <td>False</td>\n",
       "      <td>False</td>\n",
       "      <td>True</td>\n",
       "      <td>False</td>\n",
       "      <td>False</td>\n",
       "      <td>True</td>\n",
       "      <td>False</td>\n",
       "    </tr>\n",
       "    <tr>\n",
       "      <th>1466</th>\n",
       "      <td>39</td>\n",
       "      <td>0</td>\n",
       "      <td>6</td>\n",
       "      <td>1</td>\n",
       "      <td>4</td>\n",
       "      <td>1</td>\n",
       "      <td>9991</td>\n",
       "      <td>4</td>\n",
       "      <td>3</td>\n",
       "      <td>7</td>\n",
       "      <td>True</td>\n",
       "      <td>False</td>\n",
       "      <td>False</td>\n",
       "      <td>False</td>\n",
       "      <td>True</td>\n",
       "      <td>False</td>\n",
       "      <td>False</td>\n",
       "      <td>True</td>\n",
       "      <td>False</td>\n",
       "    </tr>\n",
       "    <tr>\n",
       "      <th>1467</th>\n",
       "      <td>27</td>\n",
       "      <td>0</td>\n",
       "      <td>4</td>\n",
       "      <td>3</td>\n",
       "      <td>2</td>\n",
       "      <td>2</td>\n",
       "      <td>6142</td>\n",
       "      <td>1</td>\n",
       "      <td>3</td>\n",
       "      <td>6</td>\n",
       "      <td>True</td>\n",
       "      <td>False</td>\n",
       "      <td>True</td>\n",
       "      <td>False</td>\n",
       "      <td>False</td>\n",
       "      <td>False</td>\n",
       "      <td>False</td>\n",
       "      <td>True</td>\n",
       "      <td>False</td>\n",
       "    </tr>\n",
       "    <tr>\n",
       "      <th>1468</th>\n",
       "      <td>49</td>\n",
       "      <td>0</td>\n",
       "      <td>2</td>\n",
       "      <td>3</td>\n",
       "      <td>4</td>\n",
       "      <td>2</td>\n",
       "      <td>5390</td>\n",
       "      <td>2</td>\n",
       "      <td>2</td>\n",
       "      <td>9</td>\n",
       "      <td>False</td>\n",
       "      <td>True</td>\n",
       "      <td>False</td>\n",
       "      <td>False</td>\n",
       "      <td>True</td>\n",
       "      <td>False</td>\n",
       "      <td>False</td>\n",
       "      <td>True</td>\n",
       "      <td>False</td>\n",
       "    </tr>\n",
       "    <tr>\n",
       "      <th>1469</th>\n",
       "      <td>34</td>\n",
       "      <td>0</td>\n",
       "      <td>8</td>\n",
       "      <td>3</td>\n",
       "      <td>2</td>\n",
       "      <td>3</td>\n",
       "      <td>4404</td>\n",
       "      <td>2</td>\n",
       "      <td>4</td>\n",
       "      <td>4</td>\n",
       "      <td>True</td>\n",
       "      <td>False</td>\n",
       "      <td>False</td>\n",
       "      <td>False</td>\n",
       "      <td>True</td>\n",
       "      <td>False</td>\n",
       "      <td>False</td>\n",
       "      <td>True</td>\n",
       "      <td>False</td>\n",
       "    </tr>\n",
       "  </tbody>\n",
       "</table>\n",
       "<p>1470 rows × 19 columns</p>\n",
       "</div>"
      ],
      "text/plain": [
       "      Age  Attrition  DistanceFromHome  Education  EnvironmentSatisfaction  \\\n",
       "0      41          1                 1          2                        2   \n",
       "1      49          0                 8          1                        3   \n",
       "2      37          1                 2          2                        4   \n",
       "3      33          0                 3          4                        4   \n",
       "4      27          0                 2          1                        1   \n",
       "...   ...        ...               ...        ...                      ...   \n",
       "1465   36          0                23          2                        3   \n",
       "1466   39          0                 6          1                        4   \n",
       "1467   27          0                 4          3                        2   \n",
       "1468   49          0                 2          3                        4   \n",
       "1469   34          0                 8          3                        2   \n",
       "\n",
       "      JobSatisfaction  MonthlyIncome  NumCompaniesWorked  WorkLifeBalance  \\\n",
       "0                   4           5993                   8                1   \n",
       "1                   2           5130                   1                3   \n",
       "2                   3           2090                   6                3   \n",
       "3                   3           2909                   1                3   \n",
       "4                   2           3468                   9                3   \n",
       "...               ...            ...                 ...              ...   \n",
       "1465                4           2571                   4                3   \n",
       "1466                1           9991                   4                3   \n",
       "1467                2           6142                   1                3   \n",
       "1468                2           5390                   2                2   \n",
       "1469                3           4404                   2                4   \n",
       "\n",
       "      YearsAtCompany  Department_Research & Development  Department_Sales  \\\n",
       "0                  6                              False              True   \n",
       "1                 10                               True             False   \n",
       "2                  0                               True             False   \n",
       "3                  8                               True             False   \n",
       "4                  2                               True             False   \n",
       "...              ...                                ...               ...   \n",
       "1465               5                               True             False   \n",
       "1466               7                               True             False   \n",
       "1467               6                               True             False   \n",
       "1468               9                              False              True   \n",
       "1469               4                               True             False   \n",
       "\n",
       "      EducationField_Life Sciences  EducationField_Marketing  \\\n",
       "0                             True                     False   \n",
       "1                             True                     False   \n",
       "2                            False                     False   \n",
       "3                             True                     False   \n",
       "4                            False                     False   \n",
       "...                            ...                       ...   \n",
       "1465                         False                     False   \n",
       "1466                         False                     False   \n",
       "1467                          True                     False   \n",
       "1468                         False                     False   \n",
       "1469                         False                     False   \n",
       "\n",
       "      EducationField_Medical  EducationField_Other  \\\n",
       "0                      False                 False   \n",
       "1                      False                 False   \n",
       "2                      False                  True   \n",
       "3                      False                 False   \n",
       "4                       True                 False   \n",
       "...                      ...                   ...   \n",
       "1465                    True                 False   \n",
       "1466                    True                 False   \n",
       "1467                   False                 False   \n",
       "1468                    True                 False   \n",
       "1469                    True                 False   \n",
       "\n",
       "      EducationField_Technical Degree  MaritalStatus_Married  \\\n",
       "0                               False                  False   \n",
       "1                               False                   True   \n",
       "2                               False                  False   \n",
       "3                               False                   True   \n",
       "4                               False                   True   \n",
       "...                               ...                    ...   \n",
       "1465                            False                   True   \n",
       "1466                            False                   True   \n",
       "1467                            False                   True   \n",
       "1468                            False                   True   \n",
       "1469                            False                   True   \n",
       "\n",
       "      MaritalStatus_Single  \n",
       "0                     True  \n",
       "1                    False  \n",
       "2                     True  \n",
       "3                    False  \n",
       "4                    False  \n",
       "...                    ...  \n",
       "1465                 False  \n",
       "1466                 False  \n",
       "1467                 False  \n",
       "1468                 False  \n",
       "1469                 False  \n",
       "\n",
       "[1470 rows x 19 columns]"
      ]
     },
     "execution_count": 58,
     "metadata": {},
     "output_type": "execute_result"
    }
   ],
   "source": [
    "df_with_dummies"
   ]
  },
  {
   "cell_type": "code",
   "execution_count": 59,
   "metadata": {},
   "outputs": [
    {
     "data": {
      "text/html": [
       "<div>\n",
       "<style scoped>\n",
       "    .dataframe tbody tr th:only-of-type {\n",
       "        vertical-align: middle;\n",
       "    }\n",
       "\n",
       "    .dataframe tbody tr th {\n",
       "        vertical-align: top;\n",
       "    }\n",
       "\n",
       "    .dataframe thead th {\n",
       "        text-align: right;\n",
       "    }\n",
       "</style>\n",
       "<table border=\"1\" class=\"dataframe\">\n",
       "  <thead>\n",
       "    <tr style=\"text-align: right;\">\n",
       "      <th></th>\n",
       "      <th>Age</th>\n",
       "      <th>Attrition</th>\n",
       "      <th>DistanceFromHome</th>\n",
       "      <th>Education</th>\n",
       "      <th>EnvironmentSatisfaction</th>\n",
       "      <th>JobSatisfaction</th>\n",
       "      <th>MonthlyIncome</th>\n",
       "      <th>NumCompaniesWorked</th>\n",
       "      <th>WorkLifeBalance</th>\n",
       "      <th>YearsAtCompany</th>\n",
       "    </tr>\n",
       "  </thead>\n",
       "  <tbody>\n",
       "    <tr>\n",
       "      <th>count</th>\n",
       "      <td>1470.000000</td>\n",
       "      <td>1470.000000</td>\n",
       "      <td>1470.000000</td>\n",
       "      <td>1470.000000</td>\n",
       "      <td>1470.000000</td>\n",
       "      <td>1470.000000</td>\n",
       "      <td>1470.000000</td>\n",
       "      <td>1470.000000</td>\n",
       "      <td>1470.000000</td>\n",
       "      <td>1470.000000</td>\n",
       "    </tr>\n",
       "    <tr>\n",
       "      <th>mean</th>\n",
       "      <td>36.923810</td>\n",
       "      <td>0.161224</td>\n",
       "      <td>9.192517</td>\n",
       "      <td>2.912925</td>\n",
       "      <td>2.721769</td>\n",
       "      <td>2.728571</td>\n",
       "      <td>6502.931293</td>\n",
       "      <td>2.693197</td>\n",
       "      <td>2.761224</td>\n",
       "      <td>7.008163</td>\n",
       "    </tr>\n",
       "    <tr>\n",
       "      <th>std</th>\n",
       "      <td>9.135373</td>\n",
       "      <td>0.367863</td>\n",
       "      <td>8.106864</td>\n",
       "      <td>1.024165</td>\n",
       "      <td>1.093082</td>\n",
       "      <td>1.102846</td>\n",
       "      <td>4707.956783</td>\n",
       "      <td>2.498009</td>\n",
       "      <td>0.706476</td>\n",
       "      <td>6.126525</td>\n",
       "    </tr>\n",
       "    <tr>\n",
       "      <th>min</th>\n",
       "      <td>18.000000</td>\n",
       "      <td>0.000000</td>\n",
       "      <td>1.000000</td>\n",
       "      <td>1.000000</td>\n",
       "      <td>1.000000</td>\n",
       "      <td>1.000000</td>\n",
       "      <td>1009.000000</td>\n",
       "      <td>0.000000</td>\n",
       "      <td>1.000000</td>\n",
       "      <td>0.000000</td>\n",
       "    </tr>\n",
       "    <tr>\n",
       "      <th>25%</th>\n",
       "      <td>30.000000</td>\n",
       "      <td>0.000000</td>\n",
       "      <td>2.000000</td>\n",
       "      <td>2.000000</td>\n",
       "      <td>2.000000</td>\n",
       "      <td>2.000000</td>\n",
       "      <td>2911.000000</td>\n",
       "      <td>1.000000</td>\n",
       "      <td>2.000000</td>\n",
       "      <td>3.000000</td>\n",
       "    </tr>\n",
       "    <tr>\n",
       "      <th>50%</th>\n",
       "      <td>36.000000</td>\n",
       "      <td>0.000000</td>\n",
       "      <td>7.000000</td>\n",
       "      <td>3.000000</td>\n",
       "      <td>3.000000</td>\n",
       "      <td>3.000000</td>\n",
       "      <td>4919.000000</td>\n",
       "      <td>2.000000</td>\n",
       "      <td>3.000000</td>\n",
       "      <td>5.000000</td>\n",
       "    </tr>\n",
       "    <tr>\n",
       "      <th>75%</th>\n",
       "      <td>43.000000</td>\n",
       "      <td>0.000000</td>\n",
       "      <td>14.000000</td>\n",
       "      <td>4.000000</td>\n",
       "      <td>4.000000</td>\n",
       "      <td>4.000000</td>\n",
       "      <td>8379.000000</td>\n",
       "      <td>4.000000</td>\n",
       "      <td>3.000000</td>\n",
       "      <td>9.000000</td>\n",
       "    </tr>\n",
       "    <tr>\n",
       "      <th>max</th>\n",
       "      <td>60.000000</td>\n",
       "      <td>1.000000</td>\n",
       "      <td>29.000000</td>\n",
       "      <td>5.000000</td>\n",
       "      <td>4.000000</td>\n",
       "      <td>4.000000</td>\n",
       "      <td>19999.000000</td>\n",
       "      <td>9.000000</td>\n",
       "      <td>4.000000</td>\n",
       "      <td>40.000000</td>\n",
       "    </tr>\n",
       "  </tbody>\n",
       "</table>\n",
       "</div>"
      ],
      "text/plain": [
       "               Age    Attrition  DistanceFromHome    Education  \\\n",
       "count  1470.000000  1470.000000       1470.000000  1470.000000   \n",
       "mean     36.923810     0.161224          9.192517     2.912925   \n",
       "std       9.135373     0.367863          8.106864     1.024165   \n",
       "min      18.000000     0.000000          1.000000     1.000000   \n",
       "25%      30.000000     0.000000          2.000000     2.000000   \n",
       "50%      36.000000     0.000000          7.000000     3.000000   \n",
       "75%      43.000000     0.000000         14.000000     4.000000   \n",
       "max      60.000000     1.000000         29.000000     5.000000   \n",
       "\n",
       "       EnvironmentSatisfaction  JobSatisfaction  MonthlyIncome  \\\n",
       "count              1470.000000      1470.000000    1470.000000   \n",
       "mean                  2.721769         2.728571    6502.931293   \n",
       "std                   1.093082         1.102846    4707.956783   \n",
       "min                   1.000000         1.000000    1009.000000   \n",
       "25%                   2.000000         2.000000    2911.000000   \n",
       "50%                   3.000000         3.000000    4919.000000   \n",
       "75%                   4.000000         4.000000    8379.000000   \n",
       "max                   4.000000         4.000000   19999.000000   \n",
       "\n",
       "       NumCompaniesWorked  WorkLifeBalance  YearsAtCompany  \n",
       "count         1470.000000      1470.000000     1470.000000  \n",
       "mean             2.693197         2.761224        7.008163  \n",
       "std              2.498009         0.706476        6.126525  \n",
       "min              0.000000         1.000000        0.000000  \n",
       "25%              1.000000         2.000000        3.000000  \n",
       "50%              2.000000         3.000000        5.000000  \n",
       "75%              4.000000         3.000000        9.000000  \n",
       "max              9.000000         4.000000       40.000000  "
      ]
     },
     "execution_count": 59,
     "metadata": {},
     "output_type": "execute_result"
    }
   ],
   "source": [
    "df.describe()"
   ]
  },
  {
   "cell_type": "code",
   "execution_count": 60,
   "metadata": {},
   "outputs": [],
   "source": [
    "johndoe = pd.DataFrame([{'Age': 33, 'DistanceFromHome': 6, 'Education':2, 'EnvironmentSatisfaction':4, \n",
    "                         'JobSatisfaction':3,'MonthlyIncome': 7255, 'NumCompaniesWorked': 2, 'WorkLifeBalance':3, \n",
    "                         'YearsAtCompany':2, 'Department_Sales': 0, 'EducationField_Life Sciences': 0, \n",
    "                         'EducationField_Marketing': 1,'EducationField_Medical':0 ,'EducationField_Other': 1 , \n",
    "                         'EducationField_Technical Degree':1 , 'MaritalStatus_Single': 0}])"
   ]
  },
  {
   "cell_type": "code",
   "execution_count": 61,
   "metadata": {},
   "outputs": [],
   "source": [
    "employee_prediction = logistic_model.predict(johndoe)"
   ]
  },
  {
   "cell_type": "code",
   "execution_count": 62,
   "metadata": {},
   "outputs": [
    {
     "name": "stdout",
     "output_type": "stream",
     "text": [
      "The model predicts that this employee will stay.\n"
     ]
    }
   ],
   "source": [
    "# Output the prediction\n",
    "if employee_prediction == 1:\n",
    "    print(\"The model predicts that this employee will leave.\")\n",
    "else:\n",
    "    print(\"The model predicts that this employee will stay.\")"
   ]
  },
  {
   "cell_type": "markdown",
   "metadata": {},
   "source": [
    "<strong>RESULT:</strong><br>\n",
    "I created an employee based on the average guess looking for the our data.<br>\n",
    "- Based on my chosen, that employee will stay."
   ]
  },
  {
   "cell_type": "markdown",
   "metadata": {},
   "source": [
    "### - *According to the model, what is the probability that the employee will leave?*"
   ]
  },
  {
   "cell_type": "code",
   "execution_count": 63,
   "metadata": {},
   "outputs": [
    {
     "name": "stdout",
     "output_type": "stream",
     "text": [
      "The model predicts that this employee has a 8.55% probability of leaving.\n"
     ]
    }
   ],
   "source": [
    "employee_probabilities = logistic_model.predict_proba(johndoe)\n",
    "\n",
    "# The probabilities are usually returned in the order of the classes\n",
    "# For binary classification, index 0 is typically the probability of the 'stay' class\n",
    "# and index 1 is the probability of the 'leave' class\n",
    "probability_leave = employee_probabilities[0][1]\n",
    "\n",
    "print(f\"The model predicts that this employee has a {probability_leave * 100:.2f}% probability of leaving.\")\n"
   ]
  },
  {
   "cell_type": "markdown",
   "metadata": {},
   "source": [
    "<strong>RESULT:</strong><br>\n",
    "This suggests that the employee is quite likely to stay."
   ]
  },
  {
   "cell_type": "markdown",
   "metadata": {
    "id": "JpWmMyiTowVq"
   },
   "source": [
    "Q. *When using a logistic regression model to make predictions, why is it important to only use values within the range of the dataset used to build the model?*"
   ]
  },
  {
   "cell_type": "markdown",
   "metadata": {},
   "source": [
    "<strong>RESULT:</strong><br>\n",
    "Logistic or any regression model help us to make predictions.<br>\n",
    "From data cleaning through summary stats, correlation, to partition will give us data information.<br>\n",
    "All preparation stages provide a better understanding of the range and outliers.<br>\n",
    "After creating a model, we should be careful about a new record prediction.<br>\n",
    "That new record should be in the data range. Because we just taught our model about the range.<br>\n",
    "So, if we use outside-of-the-range values for the new record, then how will our model make an appropriate prediction? - it cannot.<br><br>\n",
    "\n",
    "- That's why keeping values inside the data range to assign to a new record is crucial."
   ]
  }
 ],
 "metadata": {
  "colab": {
   "provenance": [],
   "toc_visible": true
  },
  "kernelspec": {
   "display_name": "Python 3 (ipykernel)",
   "language": "python",
   "name": "python3"
  },
  "language_info": {
   "codemirror_mode": {
    "name": "ipython",
    "version": 3
   },
   "file_extension": ".py",
   "mimetype": "text/x-python",
   "name": "python",
   "nbconvert_exporter": "python",
   "pygments_lexer": "ipython3",
   "version": "3.11.5"
  }
 },
 "nbformat": 4,
 "nbformat_minor": 4
}
